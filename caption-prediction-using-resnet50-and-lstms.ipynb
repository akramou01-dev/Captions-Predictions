{
 "cells": [
  {
   "cell_type": "code",
   "execution_count": 1,
   "id": "4d82f99f",
   "metadata": {
    "_cell_guid": "b1076dfc-b9ad-4769-8c92-a6c4dae69d19",
    "_uuid": "8f2839f25d086af736a60e9eeb907d3b93b6e0e5",
    "execution": {
     "iopub.execute_input": "2021-09-21T02:27:28.730468Z",
     "iopub.status.busy": "2021-09-21T02:27:28.728880Z",
     "iopub.status.idle": "2021-09-21T02:27:33.108687Z",
     "shell.execute_reply": "2021-09-21T02:27:33.109971Z",
     "shell.execute_reply.started": "2021-09-21T02:18:15.882036Z"
    },
    "papermill": {
     "duration": 4.439984,
     "end_time": "2021-09-21T02:27:33.110338",
     "exception": false,
     "start_time": "2021-09-21T02:27:28.670354",
     "status": "completed"
    },
    "tags": []
   },
   "outputs": [
    {
     "name": "stderr",
     "output_type": "stream",
     "text": [
      "2021-09-21 02:27:29.309333: I tensorflow/stream_executor/platform/default/dso_loader.cc:49] Successfully opened dynamic library libcudart.so.11.0\n"
     ]
    }
   ],
   "source": [
    "import numpy as np \n",
    "import pandas as pd \n",
    "from glob import glob \n",
    "import os\n",
    "import tensorflow as tf\n",
    "import cv2"
   ]
  },
  {
   "cell_type": "code",
   "execution_count": 2,
   "id": "e20f49d6",
   "metadata": {
    "execution": {
     "iopub.execute_input": "2021-09-21T02:27:33.305412Z",
     "iopub.status.busy": "2021-09-21T02:27:33.304616Z",
     "iopub.status.idle": "2021-09-21T02:27:33.760051Z",
     "shell.execute_reply": "2021-09-21T02:27:33.759348Z",
     "shell.execute_reply.started": "2021-09-21T02:18:20.525422Z"
    },
    "papermill": {
     "duration": 0.557265,
     "end_time": "2021-09-21T02:27:33.760224",
     "exception": false,
     "start_time": "2021-09-21T02:27:33.202959",
     "status": "completed"
    },
    "tags": []
   },
   "outputs": [
    {
     "name": "stdout",
     "output_type": "stream",
     "text": [
      "8091\n"
     ]
    }
   ],
   "source": [
    "images_path = \"../input/flickr8k-sau/Flickr_Data/Images/\"\n",
    "images = glob(images_path+\"*.jpg\")\n",
    "print(len(images))"
   ]
  },
  {
   "cell_type": "code",
   "execution_count": 3,
   "id": "2017dcb7",
   "metadata": {
    "execution": {
     "iopub.execute_input": "2021-09-21T02:27:34.049610Z",
     "iopub.status.busy": "2021-09-21T02:27:34.048778Z",
     "iopub.status.idle": "2021-09-21T02:27:34.053766Z",
     "shell.execute_reply": "2021-09-21T02:27:34.054427Z",
     "shell.execute_reply.started": "2021-09-21T02:18:20.721363Z"
    },
    "papermill": {
     "duration": 0.180194,
     "end_time": "2021-09-21T02:27:34.054619",
     "exception": false,
     "start_time": "2021-09-21T02:27:33.874425",
     "status": "completed"
    },
    "tags": []
   },
   "outputs": [
    {
     "data": {
      "text/plain": [
       "'../input/flickr8k-sau/Flickr_Data/Images/3226254560_2f8ac147ea.jpg'"
      ]
     },
     "execution_count": 3,
     "metadata": {},
     "output_type": "execute_result"
    }
   ],
   "source": [
    "images[0]"
   ]
  },
  {
   "cell_type": "markdown",
   "id": "12e8f7d6",
   "metadata": {
    "papermill": {
     "duration": 0.053632,
     "end_time": "2021-09-21T02:27:34.200457",
     "exception": false,
     "start_time": "2021-09-21T02:27:34.146825",
     "status": "completed"
    },
    "tags": []
   },
   "source": [
    "We will use the Resnet Model from Keras which is a pre-trained model to extract the features (objects) from the images"
   ]
  },
  {
   "cell_type": "code",
   "execution_count": 4,
   "id": "0b844b78",
   "metadata": {
    "execution": {
     "iopub.execute_input": "2021-09-21T02:27:34.312488Z",
     "iopub.status.busy": "2021-09-21T02:27:34.310919Z",
     "iopub.status.idle": "2021-09-21T02:27:34.313087Z",
     "shell.execute_reply": "2021-09-21T02:27:34.313495Z",
     "shell.execute_reply.started": "2021-09-21T02:18:20.751796Z"
    },
    "papermill": {
     "duration": 0.060095,
     "end_time": "2021-09-21T02:27:34.313620",
     "exception": false,
     "start_time": "2021-09-21T02:27:34.253525",
     "status": "completed"
    },
    "tags": []
   },
   "outputs": [],
   "source": [
    "from  tensorflow.keras.applications import ResNet50"
   ]
  },
  {
   "cell_type": "code",
   "execution_count": 5,
   "id": "2e89d6fa",
   "metadata": {
    "execution": {
     "iopub.execute_input": "2021-09-21T02:27:34.426161Z",
     "iopub.status.busy": "2021-09-21T02:27:34.425667Z",
     "iopub.status.idle": "2021-09-21T02:27:40.439622Z",
     "shell.execute_reply": "2021-09-21T02:27:40.439065Z",
     "shell.execute_reply.started": "2021-09-21T02:18:20.763084Z"
    },
    "papermill": {
     "duration": 6.073269,
     "end_time": "2021-09-21T02:27:40.439750",
     "exception": false,
     "start_time": "2021-09-21T02:27:34.366481",
     "status": "completed"
    },
    "tags": []
   },
   "outputs": [
    {
     "name": "stderr",
     "output_type": "stream",
     "text": [
      "2021-09-21 02:27:34.454660: I tensorflow/compiler/jit/xla_cpu_device.cc:41] Not creating XLA devices, tf_xla_enable_xla_devices not set\n",
      "2021-09-21 02:27:34.457875: I tensorflow/stream_executor/platform/default/dso_loader.cc:49] Successfully opened dynamic library libcuda.so.1\n",
      "2021-09-21 02:27:34.494317: I tensorflow/stream_executor/cuda/cuda_gpu_executor.cc:941] successful NUMA node read from SysFS had negative value (-1), but there must be at least one NUMA node, so returning NUMA node zero\n",
      "2021-09-21 02:27:34.494927: I tensorflow/core/common_runtime/gpu/gpu_device.cc:1720] Found device 0 with properties: \n",
      "pciBusID: 0000:00:04.0 name: Tesla P100-PCIE-16GB computeCapability: 6.0\n",
      "coreClock: 1.3285GHz coreCount: 56 deviceMemorySize: 15.90GiB deviceMemoryBandwidth: 681.88GiB/s\n",
      "2021-09-21 02:27:34.494972: I tensorflow/stream_executor/platform/default/dso_loader.cc:49] Successfully opened dynamic library libcudart.so.11.0\n",
      "2021-09-21 02:27:34.537050: I tensorflow/stream_executor/platform/default/dso_loader.cc:49] Successfully opened dynamic library libcublas.so.11\n",
      "2021-09-21 02:27:34.537129: I tensorflow/stream_executor/platform/default/dso_loader.cc:49] Successfully opened dynamic library libcublasLt.so.11\n",
      "2021-09-21 02:27:34.552579: I tensorflow/stream_executor/platform/default/dso_loader.cc:49] Successfully opened dynamic library libcufft.so.10\n",
      "2021-09-21 02:27:34.560610: I tensorflow/stream_executor/platform/default/dso_loader.cc:49] Successfully opened dynamic library libcurand.so.10\n",
      "2021-09-21 02:27:34.635684: I tensorflow/stream_executor/platform/default/dso_loader.cc:49] Successfully opened dynamic library libcusolver.so.10\n",
      "2021-09-21 02:27:34.657978: I tensorflow/stream_executor/platform/default/dso_loader.cc:49] Successfully opened dynamic library libcusparse.so.11\n",
      "2021-09-21 02:27:34.660281: I tensorflow/stream_executor/platform/default/dso_loader.cc:49] Successfully opened dynamic library libcudnn.so.8\n",
      "2021-09-21 02:27:34.660448: I tensorflow/stream_executor/cuda/cuda_gpu_executor.cc:941] successful NUMA node read from SysFS had negative value (-1), but there must be at least one NUMA node, so returning NUMA node zero\n",
      "2021-09-21 02:27:34.661124: I tensorflow/stream_executor/cuda/cuda_gpu_executor.cc:941] successful NUMA node read from SysFS had negative value (-1), but there must be at least one NUMA node, so returning NUMA node zero\n",
      "2021-09-21 02:27:34.662750: I tensorflow/core/common_runtime/gpu/gpu_device.cc:1862] Adding visible gpu devices: 0\n",
      "2021-09-21 02:27:34.663214: I tensorflow/core/platform/cpu_feature_guard.cc:142] This TensorFlow binary is optimized with oneAPI Deep Neural Network Library (oneDNN) to use the following CPU instructions in performance-critical operations:  AVX2 AVX512F FMA\n",
      "To enable them in other operations, rebuild TensorFlow with the appropriate compiler flags.\n",
      "2021-09-21 02:27:34.663445: I tensorflow/compiler/jit/xla_gpu_device.cc:99] Not creating XLA devices, tf_xla_enable_xla_devices not set\n",
      "2021-09-21 02:27:34.663601: I tensorflow/stream_executor/cuda/cuda_gpu_executor.cc:941] successful NUMA node read from SysFS had negative value (-1), but there must be at least one NUMA node, so returning NUMA node zero\n",
      "2021-09-21 02:27:34.664180: I tensorflow/core/common_runtime/gpu/gpu_device.cc:1720] Found device 0 with properties: \n",
      "pciBusID: 0000:00:04.0 name: Tesla P100-PCIE-16GB computeCapability: 6.0\n",
      "coreClock: 1.3285GHz coreCount: 56 deviceMemorySize: 15.90GiB deviceMemoryBandwidth: 681.88GiB/s\n",
      "2021-09-21 02:27:34.664226: I tensorflow/stream_executor/platform/default/dso_loader.cc:49] Successfully opened dynamic library libcudart.so.11.0\n",
      "2021-09-21 02:27:34.664281: I tensorflow/stream_executor/platform/default/dso_loader.cc:49] Successfully opened dynamic library libcublas.so.11\n",
      "2021-09-21 02:27:34.664306: I tensorflow/stream_executor/platform/default/dso_loader.cc:49] Successfully opened dynamic library libcublasLt.so.11\n",
      "2021-09-21 02:27:34.664326: I tensorflow/stream_executor/platform/default/dso_loader.cc:49] Successfully opened dynamic library libcufft.so.10\n",
      "2021-09-21 02:27:34.664362: I tensorflow/stream_executor/platform/default/dso_loader.cc:49] Successfully opened dynamic library libcurand.so.10\n",
      "2021-09-21 02:27:34.664381: I tensorflow/stream_executor/platform/default/dso_loader.cc:49] Successfully opened dynamic library libcusolver.so.10\n",
      "2021-09-21 02:27:34.664401: I tensorflow/stream_executor/platform/default/dso_loader.cc:49] Successfully opened dynamic library libcusparse.so.11\n",
      "2021-09-21 02:27:34.664421: I tensorflow/stream_executor/platform/default/dso_loader.cc:49] Successfully opened dynamic library libcudnn.so.8\n",
      "2021-09-21 02:27:34.664506: I tensorflow/stream_executor/cuda/cuda_gpu_executor.cc:941] successful NUMA node read from SysFS had negative value (-1), but there must be at least one NUMA node, so returning NUMA node zero\n",
      "2021-09-21 02:27:34.665115: I tensorflow/stream_executor/cuda/cuda_gpu_executor.cc:941] successful NUMA node read from SysFS had negative value (-1), but there must be at least one NUMA node, so returning NUMA node zero\n",
      "2021-09-21 02:27:34.665669: I tensorflow/core/common_runtime/gpu/gpu_device.cc:1862] Adding visible gpu devices: 0\n",
      "2021-09-21 02:27:34.666819: I tensorflow/stream_executor/platform/default/dso_loader.cc:49] Successfully opened dynamic library libcudart.so.11.0\n",
      "2021-09-21 02:27:36.109409: I tensorflow/core/common_runtime/gpu/gpu_device.cc:1261] Device interconnect StreamExecutor with strength 1 edge matrix:\n",
      "2021-09-21 02:27:36.109461: I tensorflow/core/common_runtime/gpu/gpu_device.cc:1267]      0 \n",
      "2021-09-21 02:27:36.109471: I tensorflow/core/common_runtime/gpu/gpu_device.cc:1280] 0:   N \n",
      "2021-09-21 02:27:36.112202: I tensorflow/stream_executor/cuda/cuda_gpu_executor.cc:941] successful NUMA node read from SysFS had negative value (-1), but there must be at least one NUMA node, so returning NUMA node zero\n",
      "2021-09-21 02:27:36.112986: I tensorflow/stream_executor/cuda/cuda_gpu_executor.cc:941] successful NUMA node read from SysFS had negative value (-1), but there must be at least one NUMA node, so returning NUMA node zero\n",
      "2021-09-21 02:27:36.113652: I tensorflow/stream_executor/cuda/cuda_gpu_executor.cc:941] successful NUMA node read from SysFS had negative value (-1), but there must be at least one NUMA node, so returning NUMA node zero\n",
      "2021-09-21 02:27:36.114215: I tensorflow/core/common_runtime/gpu/gpu_device.cc:1406] Created TensorFlow device (/job:localhost/replica:0/task:0/device:GPU:0 with 14957 MB memory) -> physical GPU (device: 0, name: Tesla P100-PCIE-16GB, pci bus id: 0000:00:04.0, compute capability: 6.0)\n"
     ]
    },
    {
     "name": "stdout",
     "output_type": "stream",
     "text": [
      "Downloading data from https://storage.googleapis.com/tensorflow/keras-applications/resnet/resnet50_weights_tf_dim_ordering_tf_kernels.h5\n",
      "102973440/102967424 [==============================] - 2s 0us/step\n"
     ]
    }
   ],
   "source": [
    "incept_model = ResNet50(include_top=True)"
   ]
  },
  {
   "cell_type": "code",
   "execution_count": 6,
   "id": "298198d6",
   "metadata": {
    "_kg_hide-input": true,
    "execution": {
     "iopub.execute_input": "2021-09-21T02:27:40.574622Z",
     "iopub.status.busy": "2021-09-21T02:27:40.559795Z",
     "iopub.status.idle": "2021-09-21T02:27:40.640950Z",
     "shell.execute_reply": "2021-09-21T02:27:40.640517Z",
     "shell.execute_reply.started": "2021-09-21T02:18:24.298136Z"
    },
    "papermill": {
     "duration": 0.143238,
     "end_time": "2021-09-21T02:27:40.641064",
     "exception": false,
     "start_time": "2021-09-21T02:27:40.497826",
     "status": "completed"
    },
    "tags": []
   },
   "outputs": [
    {
     "name": "stdout",
     "output_type": "stream",
     "text": [
      "Model: \"resnet50\"\n",
      "__________________________________________________________________________________________________\n",
      "Layer (type)                    Output Shape         Param #     Connected to                     \n",
      "==================================================================================================\n",
      "input_1 (InputLayer)            [(None, 224, 224, 3) 0                                            \n",
      "__________________________________________________________________________________________________\n",
      "conv1_pad (ZeroPadding2D)       (None, 230, 230, 3)  0           input_1[0][0]                    \n",
      "__________________________________________________________________________________________________\n",
      "conv1_conv (Conv2D)             (None, 112, 112, 64) 9472        conv1_pad[0][0]                  \n",
      "__________________________________________________________________________________________________\n",
      "conv1_bn (BatchNormalization)   (None, 112, 112, 64) 256         conv1_conv[0][0]                 \n",
      "__________________________________________________________________________________________________\n",
      "conv1_relu (Activation)         (None, 112, 112, 64) 0           conv1_bn[0][0]                   \n",
      "__________________________________________________________________________________________________\n",
      "pool1_pad (ZeroPadding2D)       (None, 114, 114, 64) 0           conv1_relu[0][0]                 \n",
      "__________________________________________________________________________________________________\n",
      "pool1_pool (MaxPooling2D)       (None, 56, 56, 64)   0           pool1_pad[0][0]                  \n",
      "__________________________________________________________________________________________________\n",
      "conv2_block1_1_conv (Conv2D)    (None, 56, 56, 64)   4160        pool1_pool[0][0]                 \n",
      "__________________________________________________________________________________________________\n",
      "conv2_block1_1_bn (BatchNormali (None, 56, 56, 64)   256         conv2_block1_1_conv[0][0]        \n",
      "__________________________________________________________________________________________________\n",
      "conv2_block1_1_relu (Activation (None, 56, 56, 64)   0           conv2_block1_1_bn[0][0]          \n",
      "__________________________________________________________________________________________________\n",
      "conv2_block1_2_conv (Conv2D)    (None, 56, 56, 64)   36928       conv2_block1_1_relu[0][0]        \n",
      "__________________________________________________________________________________________________\n",
      "conv2_block1_2_bn (BatchNormali (None, 56, 56, 64)   256         conv2_block1_2_conv[0][0]        \n",
      "__________________________________________________________________________________________________\n",
      "conv2_block1_2_relu (Activation (None, 56, 56, 64)   0           conv2_block1_2_bn[0][0]          \n",
      "__________________________________________________________________________________________________\n",
      "conv2_block1_0_conv (Conv2D)    (None, 56, 56, 256)  16640       pool1_pool[0][0]                 \n",
      "__________________________________________________________________________________________________\n",
      "conv2_block1_3_conv (Conv2D)    (None, 56, 56, 256)  16640       conv2_block1_2_relu[0][0]        \n",
      "__________________________________________________________________________________________________\n",
      "conv2_block1_0_bn (BatchNormali (None, 56, 56, 256)  1024        conv2_block1_0_conv[0][0]        \n",
      "__________________________________________________________________________________________________\n",
      "conv2_block1_3_bn (BatchNormali (None, 56, 56, 256)  1024        conv2_block1_3_conv[0][0]        \n",
      "__________________________________________________________________________________________________\n",
      "conv2_block1_add (Add)          (None, 56, 56, 256)  0           conv2_block1_0_bn[0][0]          \n",
      "                                                                 conv2_block1_3_bn[0][0]          \n",
      "__________________________________________________________________________________________________\n",
      "conv2_block1_out (Activation)   (None, 56, 56, 256)  0           conv2_block1_add[0][0]           \n",
      "__________________________________________________________________________________________________\n",
      "conv2_block2_1_conv (Conv2D)    (None, 56, 56, 64)   16448       conv2_block1_out[0][0]           \n",
      "__________________________________________________________________________________________________\n",
      "conv2_block2_1_bn (BatchNormali (None, 56, 56, 64)   256         conv2_block2_1_conv[0][0]        \n",
      "__________________________________________________________________________________________________\n",
      "conv2_block2_1_relu (Activation (None, 56, 56, 64)   0           conv2_block2_1_bn[0][0]          \n",
      "__________________________________________________________________________________________________\n",
      "conv2_block2_2_conv (Conv2D)    (None, 56, 56, 64)   36928       conv2_block2_1_relu[0][0]        \n",
      "__________________________________________________________________________________________________\n",
      "conv2_block2_2_bn (BatchNormali (None, 56, 56, 64)   256         conv2_block2_2_conv[0][0]        \n",
      "__________________________________________________________________________________________________\n",
      "conv2_block2_2_relu (Activation (None, 56, 56, 64)   0           conv2_block2_2_bn[0][0]          \n",
      "__________________________________________________________________________________________________\n",
      "conv2_block2_3_conv (Conv2D)    (None, 56, 56, 256)  16640       conv2_block2_2_relu[0][0]        \n",
      "__________________________________________________________________________________________________\n",
      "conv2_block2_3_bn (BatchNormali (None, 56, 56, 256)  1024        conv2_block2_3_conv[0][0]        \n",
      "__________________________________________________________________________________________________\n",
      "conv2_block2_add (Add)          (None, 56, 56, 256)  0           conv2_block1_out[0][0]           \n",
      "                                                                 conv2_block2_3_bn[0][0]          \n",
      "__________________________________________________________________________________________________\n",
      "conv2_block2_out (Activation)   (None, 56, 56, 256)  0           conv2_block2_add[0][0]           \n",
      "__________________________________________________________________________________________________\n",
      "conv2_block3_1_conv (Conv2D)    (None, 56, 56, 64)   16448       conv2_block2_out[0][0]           \n",
      "__________________________________________________________________________________________________\n",
      "conv2_block3_1_bn (BatchNormali (None, 56, 56, 64)   256         conv2_block3_1_conv[0][0]        \n",
      "__________________________________________________________________________________________________\n",
      "conv2_block3_1_relu (Activation (None, 56, 56, 64)   0           conv2_block3_1_bn[0][0]          \n",
      "__________________________________________________________________________________________________\n",
      "conv2_block3_2_conv (Conv2D)    (None, 56, 56, 64)   36928       conv2_block3_1_relu[0][0]        \n",
      "__________________________________________________________________________________________________\n",
      "conv2_block3_2_bn (BatchNormali (None, 56, 56, 64)   256         conv2_block3_2_conv[0][0]        \n",
      "__________________________________________________________________________________________________\n",
      "conv2_block3_2_relu (Activation (None, 56, 56, 64)   0           conv2_block3_2_bn[0][0]          \n",
      "__________________________________________________________________________________________________\n",
      "conv2_block3_3_conv (Conv2D)    (None, 56, 56, 256)  16640       conv2_block3_2_relu[0][0]        \n",
      "__________________________________________________________________________________________________\n",
      "conv2_block3_3_bn (BatchNormali (None, 56, 56, 256)  1024        conv2_block3_3_conv[0][0]        \n",
      "__________________________________________________________________________________________________\n",
      "conv2_block3_add (Add)          (None, 56, 56, 256)  0           conv2_block2_out[0][0]           \n",
      "                                                                 conv2_block3_3_bn[0][0]          \n",
      "__________________________________________________________________________________________________\n",
      "conv2_block3_out (Activation)   (None, 56, 56, 256)  0           conv2_block3_add[0][0]           \n",
      "__________________________________________________________________________________________________\n",
      "conv3_block1_1_conv (Conv2D)    (None, 28, 28, 128)  32896       conv2_block3_out[0][0]           \n",
      "__________________________________________________________________________________________________\n",
      "conv3_block1_1_bn (BatchNormali (None, 28, 28, 128)  512         conv3_block1_1_conv[0][0]        \n",
      "__________________________________________________________________________________________________\n",
      "conv3_block1_1_relu (Activation (None, 28, 28, 128)  0           conv3_block1_1_bn[0][0]          \n",
      "__________________________________________________________________________________________________\n",
      "conv3_block1_2_conv (Conv2D)    (None, 28, 28, 128)  147584      conv3_block1_1_relu[0][0]        \n",
      "__________________________________________________________________________________________________\n",
      "conv3_block1_2_bn (BatchNormali (None, 28, 28, 128)  512         conv3_block1_2_conv[0][0]        \n",
      "__________________________________________________________________________________________________\n",
      "conv3_block1_2_relu (Activation (None, 28, 28, 128)  0           conv3_block1_2_bn[0][0]          \n",
      "__________________________________________________________________________________________________\n",
      "conv3_block1_0_conv (Conv2D)    (None, 28, 28, 512)  131584      conv2_block3_out[0][0]           \n",
      "__________________________________________________________________________________________________\n",
      "conv3_block1_3_conv (Conv2D)    (None, 28, 28, 512)  66048       conv3_block1_2_relu[0][0]        \n",
      "__________________________________________________________________________________________________\n",
      "conv3_block1_0_bn (BatchNormali (None, 28, 28, 512)  2048        conv3_block1_0_conv[0][0]        \n",
      "__________________________________________________________________________________________________\n",
      "conv3_block1_3_bn (BatchNormali (None, 28, 28, 512)  2048        conv3_block1_3_conv[0][0]        \n",
      "__________________________________________________________________________________________________\n",
      "conv3_block1_add (Add)          (None, 28, 28, 512)  0           conv3_block1_0_bn[0][0]          \n",
      "                                                                 conv3_block1_3_bn[0][0]          \n",
      "__________________________________________________________________________________________________\n",
      "conv3_block1_out (Activation)   (None, 28, 28, 512)  0           conv3_block1_add[0][0]           \n",
      "__________________________________________________________________________________________________\n",
      "conv3_block2_1_conv (Conv2D)    (None, 28, 28, 128)  65664       conv3_block1_out[0][0]           \n",
      "__________________________________________________________________________________________________\n",
      "conv3_block2_1_bn (BatchNormali (None, 28, 28, 128)  512         conv3_block2_1_conv[0][0]        \n",
      "__________________________________________________________________________________________________\n",
      "conv3_block2_1_relu (Activation (None, 28, 28, 128)  0           conv3_block2_1_bn[0][0]          \n",
      "__________________________________________________________________________________________________\n",
      "conv3_block2_2_conv (Conv2D)    (None, 28, 28, 128)  147584      conv3_block2_1_relu[0][0]        \n",
      "__________________________________________________________________________________________________\n",
      "conv3_block2_2_bn (BatchNormali (None, 28, 28, 128)  512         conv3_block2_2_conv[0][0]        \n",
      "__________________________________________________________________________________________________\n",
      "conv3_block2_2_relu (Activation (None, 28, 28, 128)  0           conv3_block2_2_bn[0][0]          \n",
      "__________________________________________________________________________________________________\n",
      "conv3_block2_3_conv (Conv2D)    (None, 28, 28, 512)  66048       conv3_block2_2_relu[0][0]        \n",
      "__________________________________________________________________________________________________\n",
      "conv3_block2_3_bn (BatchNormali (None, 28, 28, 512)  2048        conv3_block2_3_conv[0][0]        \n",
      "__________________________________________________________________________________________________\n",
      "conv3_block2_add (Add)          (None, 28, 28, 512)  0           conv3_block1_out[0][0]           \n",
      "                                                                 conv3_block2_3_bn[0][0]          \n",
      "__________________________________________________________________________________________________\n",
      "conv3_block2_out (Activation)   (None, 28, 28, 512)  0           conv3_block2_add[0][0]           \n",
      "__________________________________________________________________________________________________\n",
      "conv3_block3_1_conv (Conv2D)    (None, 28, 28, 128)  65664       conv3_block2_out[0][0]           \n",
      "__________________________________________________________________________________________________\n",
      "conv3_block3_1_bn (BatchNormali (None, 28, 28, 128)  512         conv3_block3_1_conv[0][0]        \n",
      "__________________________________________________________________________________________________\n",
      "conv3_block3_1_relu (Activation (None, 28, 28, 128)  0           conv3_block3_1_bn[0][0]          \n",
      "__________________________________________________________________________________________________\n",
      "conv3_block3_2_conv (Conv2D)    (None, 28, 28, 128)  147584      conv3_block3_1_relu[0][0]        \n",
      "__________________________________________________________________________________________________\n",
      "conv3_block3_2_bn (BatchNormali (None, 28, 28, 128)  512         conv3_block3_2_conv[0][0]        \n",
      "__________________________________________________________________________________________________\n",
      "conv3_block3_2_relu (Activation (None, 28, 28, 128)  0           conv3_block3_2_bn[0][0]          \n",
      "__________________________________________________________________________________________________\n",
      "conv3_block3_3_conv (Conv2D)    (None, 28, 28, 512)  66048       conv3_block3_2_relu[0][0]        \n",
      "__________________________________________________________________________________________________\n",
      "conv3_block3_3_bn (BatchNormali (None, 28, 28, 512)  2048        conv3_block3_3_conv[0][0]        \n",
      "__________________________________________________________________________________________________\n",
      "conv3_block3_add (Add)          (None, 28, 28, 512)  0           conv3_block2_out[0][0]           \n",
      "                                                                 conv3_block3_3_bn[0][0]          \n",
      "__________________________________________________________________________________________________\n",
      "conv3_block3_out (Activation)   (None, 28, 28, 512)  0           conv3_block3_add[0][0]           \n",
      "__________________________________________________________________________________________________\n",
      "conv3_block4_1_conv (Conv2D)    (None, 28, 28, 128)  65664       conv3_block3_out[0][0]           \n",
      "__________________________________________________________________________________________________\n",
      "conv3_block4_1_bn (BatchNormali (None, 28, 28, 128)  512         conv3_block4_1_conv[0][0]        \n",
      "__________________________________________________________________________________________________\n",
      "conv3_block4_1_relu (Activation (None, 28, 28, 128)  0           conv3_block4_1_bn[0][0]          \n",
      "__________________________________________________________________________________________________\n",
      "conv3_block4_2_conv (Conv2D)    (None, 28, 28, 128)  147584      conv3_block4_1_relu[0][0]        \n",
      "__________________________________________________________________________________________________\n",
      "conv3_block4_2_bn (BatchNormali (None, 28, 28, 128)  512         conv3_block4_2_conv[0][0]        \n",
      "__________________________________________________________________________________________________\n",
      "conv3_block4_2_relu (Activation (None, 28, 28, 128)  0           conv3_block4_2_bn[0][0]          \n",
      "__________________________________________________________________________________________________\n",
      "conv3_block4_3_conv (Conv2D)    (None, 28, 28, 512)  66048       conv3_block4_2_relu[0][0]        \n",
      "__________________________________________________________________________________________________\n",
      "conv3_block4_3_bn (BatchNormali (None, 28, 28, 512)  2048        conv3_block4_3_conv[0][0]        \n",
      "__________________________________________________________________________________________________\n",
      "conv3_block4_add (Add)          (None, 28, 28, 512)  0           conv3_block3_out[0][0]           \n",
      "                                                                 conv3_block4_3_bn[0][0]          \n",
      "__________________________________________________________________________________________________\n",
      "conv3_block4_out (Activation)   (None, 28, 28, 512)  0           conv3_block4_add[0][0]           \n",
      "__________________________________________________________________________________________________\n",
      "conv4_block1_1_conv (Conv2D)    (None, 14, 14, 256)  131328      conv3_block4_out[0][0]           \n",
      "__________________________________________________________________________________________________\n",
      "conv4_block1_1_bn (BatchNormali (None, 14, 14, 256)  1024        conv4_block1_1_conv[0][0]        \n",
      "__________________________________________________________________________________________________\n",
      "conv4_block1_1_relu (Activation (None, 14, 14, 256)  0           conv4_block1_1_bn[0][0]          \n",
      "__________________________________________________________________________________________________\n",
      "conv4_block1_2_conv (Conv2D)    (None, 14, 14, 256)  590080      conv4_block1_1_relu[0][0]        \n",
      "__________________________________________________________________________________________________\n",
      "conv4_block1_2_bn (BatchNormali (None, 14, 14, 256)  1024        conv4_block1_2_conv[0][0]        \n",
      "__________________________________________________________________________________________________\n",
      "conv4_block1_2_relu (Activation (None, 14, 14, 256)  0           conv4_block1_2_bn[0][0]          \n",
      "__________________________________________________________________________________________________\n",
      "conv4_block1_0_conv (Conv2D)    (None, 14, 14, 1024) 525312      conv3_block4_out[0][0]           \n",
      "__________________________________________________________________________________________________\n",
      "conv4_block1_3_conv (Conv2D)    (None, 14, 14, 1024) 263168      conv4_block1_2_relu[0][0]        \n",
      "__________________________________________________________________________________________________\n",
      "conv4_block1_0_bn (BatchNormali (None, 14, 14, 1024) 4096        conv4_block1_0_conv[0][0]        \n",
      "__________________________________________________________________________________________________\n",
      "conv4_block1_3_bn (BatchNormali (None, 14, 14, 1024) 4096        conv4_block1_3_conv[0][0]        \n",
      "__________________________________________________________________________________________________\n",
      "conv4_block1_add (Add)          (None, 14, 14, 1024) 0           conv4_block1_0_bn[0][0]          \n",
      "                                                                 conv4_block1_3_bn[0][0]          \n",
      "__________________________________________________________________________________________________\n",
      "conv4_block1_out (Activation)   (None, 14, 14, 1024) 0           conv4_block1_add[0][0]           \n",
      "__________________________________________________________________________________________________\n",
      "conv4_block2_1_conv (Conv2D)    (None, 14, 14, 256)  262400      conv4_block1_out[0][0]           \n",
      "__________________________________________________________________________________________________\n",
      "conv4_block2_1_bn (BatchNormali (None, 14, 14, 256)  1024        conv4_block2_1_conv[0][0]        \n",
      "__________________________________________________________________________________________________\n",
      "conv4_block2_1_relu (Activation (None, 14, 14, 256)  0           conv4_block2_1_bn[0][0]          \n",
      "__________________________________________________________________________________________________\n",
      "conv4_block2_2_conv (Conv2D)    (None, 14, 14, 256)  590080      conv4_block2_1_relu[0][0]        \n",
      "__________________________________________________________________________________________________\n",
      "conv4_block2_2_bn (BatchNormali (None, 14, 14, 256)  1024        conv4_block2_2_conv[0][0]        \n",
      "__________________________________________________________________________________________________\n",
      "conv4_block2_2_relu (Activation (None, 14, 14, 256)  0           conv4_block2_2_bn[0][0]          \n",
      "__________________________________________________________________________________________________\n",
      "conv4_block2_3_conv (Conv2D)    (None, 14, 14, 1024) 263168      conv4_block2_2_relu[0][0]        \n",
      "__________________________________________________________________________________________________\n",
      "conv4_block2_3_bn (BatchNormali (None, 14, 14, 1024) 4096        conv4_block2_3_conv[0][0]        \n",
      "__________________________________________________________________________________________________\n",
      "conv4_block2_add (Add)          (None, 14, 14, 1024) 0           conv4_block1_out[0][0]           \n",
      "                                                                 conv4_block2_3_bn[0][0]          \n",
      "__________________________________________________________________________________________________\n",
      "conv4_block2_out (Activation)   (None, 14, 14, 1024) 0           conv4_block2_add[0][0]           \n",
      "__________________________________________________________________________________________________\n",
      "conv4_block3_1_conv (Conv2D)    (None, 14, 14, 256)  262400      conv4_block2_out[0][0]           \n",
      "__________________________________________________________________________________________________\n",
      "conv4_block3_1_bn (BatchNormali (None, 14, 14, 256)  1024        conv4_block3_1_conv[0][0]        \n",
      "__________________________________________________________________________________________________\n",
      "conv4_block3_1_relu (Activation (None, 14, 14, 256)  0           conv4_block3_1_bn[0][0]          \n",
      "__________________________________________________________________________________________________\n",
      "conv4_block3_2_conv (Conv2D)    (None, 14, 14, 256)  590080      conv4_block3_1_relu[0][0]        \n",
      "__________________________________________________________________________________________________\n",
      "conv4_block3_2_bn (BatchNormali (None, 14, 14, 256)  1024        conv4_block3_2_conv[0][0]        \n",
      "__________________________________________________________________________________________________\n",
      "conv4_block3_2_relu (Activation (None, 14, 14, 256)  0           conv4_block3_2_bn[0][0]          \n",
      "__________________________________________________________________________________________________\n",
      "conv4_block3_3_conv (Conv2D)    (None, 14, 14, 1024) 263168      conv4_block3_2_relu[0][0]        \n",
      "__________________________________________________________________________________________________\n",
      "conv4_block3_3_bn (BatchNormali (None, 14, 14, 1024) 4096        conv4_block3_3_conv[0][0]        \n",
      "__________________________________________________________________________________________________\n",
      "conv4_block3_add (Add)          (None, 14, 14, 1024) 0           conv4_block2_out[0][0]           \n",
      "                                                                 conv4_block3_3_bn[0][0]          \n",
      "__________________________________________________________________________________________________\n",
      "conv4_block3_out (Activation)   (None, 14, 14, 1024) 0           conv4_block3_add[0][0]           \n",
      "__________________________________________________________________________________________________\n",
      "conv4_block4_1_conv (Conv2D)    (None, 14, 14, 256)  262400      conv4_block3_out[0][0]           \n",
      "__________________________________________________________________________________________________\n",
      "conv4_block4_1_bn (BatchNormali (None, 14, 14, 256)  1024        conv4_block4_1_conv[0][0]        \n",
      "__________________________________________________________________________________________________\n",
      "conv4_block4_1_relu (Activation (None, 14, 14, 256)  0           conv4_block4_1_bn[0][0]          \n",
      "__________________________________________________________________________________________________\n",
      "conv4_block4_2_conv (Conv2D)    (None, 14, 14, 256)  590080      conv4_block4_1_relu[0][0]        \n",
      "__________________________________________________________________________________________________\n",
      "conv4_block4_2_bn (BatchNormali (None, 14, 14, 256)  1024        conv4_block4_2_conv[0][0]        \n",
      "__________________________________________________________________________________________________\n",
      "conv4_block4_2_relu (Activation (None, 14, 14, 256)  0           conv4_block4_2_bn[0][0]          \n",
      "__________________________________________________________________________________________________\n",
      "conv4_block4_3_conv (Conv2D)    (None, 14, 14, 1024) 263168      conv4_block4_2_relu[0][0]        \n",
      "__________________________________________________________________________________________________\n",
      "conv4_block4_3_bn (BatchNormali (None, 14, 14, 1024) 4096        conv4_block4_3_conv[0][0]        \n",
      "__________________________________________________________________________________________________\n",
      "conv4_block4_add (Add)          (None, 14, 14, 1024) 0           conv4_block3_out[0][0]           \n",
      "                                                                 conv4_block4_3_bn[0][0]          \n",
      "__________________________________________________________________________________________________\n",
      "conv4_block4_out (Activation)   (None, 14, 14, 1024) 0           conv4_block4_add[0][0]           \n",
      "__________________________________________________________________________________________________\n",
      "conv4_block5_1_conv (Conv2D)    (None, 14, 14, 256)  262400      conv4_block4_out[0][0]           \n",
      "__________________________________________________________________________________________________\n",
      "conv4_block5_1_bn (BatchNormali (None, 14, 14, 256)  1024        conv4_block5_1_conv[0][0]        \n",
      "__________________________________________________________________________________________________\n",
      "conv4_block5_1_relu (Activation (None, 14, 14, 256)  0           conv4_block5_1_bn[0][0]          \n",
      "__________________________________________________________________________________________________\n",
      "conv4_block5_2_conv (Conv2D)    (None, 14, 14, 256)  590080      conv4_block5_1_relu[0][0]        \n",
      "__________________________________________________________________________________________________\n",
      "conv4_block5_2_bn (BatchNormali (None, 14, 14, 256)  1024        conv4_block5_2_conv[0][0]        \n",
      "__________________________________________________________________________________________________\n",
      "conv4_block5_2_relu (Activation (None, 14, 14, 256)  0           conv4_block5_2_bn[0][0]          \n",
      "__________________________________________________________________________________________________\n",
      "conv4_block5_3_conv (Conv2D)    (None, 14, 14, 1024) 263168      conv4_block5_2_relu[0][0]        \n",
      "__________________________________________________________________________________________________\n",
      "conv4_block5_3_bn (BatchNormali (None, 14, 14, 1024) 4096        conv4_block5_3_conv[0][0]        \n",
      "__________________________________________________________________________________________________\n",
      "conv4_block5_add (Add)          (None, 14, 14, 1024) 0           conv4_block4_out[0][0]           \n",
      "                                                                 conv4_block5_3_bn[0][0]          \n",
      "__________________________________________________________________________________________________\n",
      "conv4_block5_out (Activation)   (None, 14, 14, 1024) 0           conv4_block5_add[0][0]           \n",
      "__________________________________________________________________________________________________\n",
      "conv4_block6_1_conv (Conv2D)    (None, 14, 14, 256)  262400      conv4_block5_out[0][0]           \n",
      "__________________________________________________________________________________________________\n",
      "conv4_block6_1_bn (BatchNormali (None, 14, 14, 256)  1024        conv4_block6_1_conv[0][0]        \n",
      "__________________________________________________________________________________________________\n",
      "conv4_block6_1_relu (Activation (None, 14, 14, 256)  0           conv4_block6_1_bn[0][0]          \n",
      "__________________________________________________________________________________________________\n",
      "conv4_block6_2_conv (Conv2D)    (None, 14, 14, 256)  590080      conv4_block6_1_relu[0][0]        \n",
      "__________________________________________________________________________________________________\n",
      "conv4_block6_2_bn (BatchNormali (None, 14, 14, 256)  1024        conv4_block6_2_conv[0][0]        \n",
      "__________________________________________________________________________________________________\n",
      "conv4_block6_2_relu (Activation (None, 14, 14, 256)  0           conv4_block6_2_bn[0][0]          \n",
      "__________________________________________________________________________________________________\n",
      "conv4_block6_3_conv (Conv2D)    (None, 14, 14, 1024) 263168      conv4_block6_2_relu[0][0]        \n",
      "__________________________________________________________________________________________________\n",
      "conv4_block6_3_bn (BatchNormali (None, 14, 14, 1024) 4096        conv4_block6_3_conv[0][0]        \n",
      "__________________________________________________________________________________________________\n",
      "conv4_block6_add (Add)          (None, 14, 14, 1024) 0           conv4_block5_out[0][0]           \n",
      "                                                                 conv4_block6_3_bn[0][0]          \n",
      "__________________________________________________________________________________________________\n",
      "conv4_block6_out (Activation)   (None, 14, 14, 1024) 0           conv4_block6_add[0][0]           \n",
      "__________________________________________________________________________________________________\n",
      "conv5_block1_1_conv (Conv2D)    (None, 7, 7, 512)    524800      conv4_block6_out[0][0]           \n",
      "__________________________________________________________________________________________________\n",
      "conv5_block1_1_bn (BatchNormali (None, 7, 7, 512)    2048        conv5_block1_1_conv[0][0]        \n",
      "__________________________________________________________________________________________________\n",
      "conv5_block1_1_relu (Activation (None, 7, 7, 512)    0           conv5_block1_1_bn[0][0]          \n",
      "__________________________________________________________________________________________________\n",
      "conv5_block1_2_conv (Conv2D)    (None, 7, 7, 512)    2359808     conv5_block1_1_relu[0][0]        \n",
      "__________________________________________________________________________________________________\n",
      "conv5_block1_2_bn (BatchNormali (None, 7, 7, 512)    2048        conv5_block1_2_conv[0][0]        \n",
      "__________________________________________________________________________________________________\n",
      "conv5_block1_2_relu (Activation (None, 7, 7, 512)    0           conv5_block1_2_bn[0][0]          \n",
      "__________________________________________________________________________________________________\n",
      "conv5_block1_0_conv (Conv2D)    (None, 7, 7, 2048)   2099200     conv4_block6_out[0][0]           \n",
      "__________________________________________________________________________________________________\n",
      "conv5_block1_3_conv (Conv2D)    (None, 7, 7, 2048)   1050624     conv5_block1_2_relu[0][0]        \n",
      "__________________________________________________________________________________________________\n",
      "conv5_block1_0_bn (BatchNormali (None, 7, 7, 2048)   8192        conv5_block1_0_conv[0][0]        \n",
      "__________________________________________________________________________________________________\n",
      "conv5_block1_3_bn (BatchNormali (None, 7, 7, 2048)   8192        conv5_block1_3_conv[0][0]        \n",
      "__________________________________________________________________________________________________\n",
      "conv5_block1_add (Add)          (None, 7, 7, 2048)   0           conv5_block1_0_bn[0][0]          \n",
      "                                                                 conv5_block1_3_bn[0][0]          \n",
      "__________________________________________________________________________________________________\n",
      "conv5_block1_out (Activation)   (None, 7, 7, 2048)   0           conv5_block1_add[0][0]           \n",
      "__________________________________________________________________________________________________\n",
      "conv5_block2_1_conv (Conv2D)    (None, 7, 7, 512)    1049088     conv5_block1_out[0][0]           \n",
      "__________________________________________________________________________________________________\n",
      "conv5_block2_1_bn (BatchNormali (None, 7, 7, 512)    2048        conv5_block2_1_conv[0][0]        \n",
      "__________________________________________________________________________________________________\n",
      "conv5_block2_1_relu (Activation (None, 7, 7, 512)    0           conv5_block2_1_bn[0][0]          \n",
      "__________________________________________________________________________________________________\n",
      "conv5_block2_2_conv (Conv2D)    (None, 7, 7, 512)    2359808     conv5_block2_1_relu[0][0]        \n",
      "__________________________________________________________________________________________________\n",
      "conv5_block2_2_bn (BatchNormali (None, 7, 7, 512)    2048        conv5_block2_2_conv[0][0]        \n",
      "__________________________________________________________________________________________________\n",
      "conv5_block2_2_relu (Activation (None, 7, 7, 512)    0           conv5_block2_2_bn[0][0]          \n",
      "__________________________________________________________________________________________________\n",
      "conv5_block2_3_conv (Conv2D)    (None, 7, 7, 2048)   1050624     conv5_block2_2_relu[0][0]        \n",
      "__________________________________________________________________________________________________\n",
      "conv5_block2_3_bn (BatchNormali (None, 7, 7, 2048)   8192        conv5_block2_3_conv[0][0]        \n",
      "__________________________________________________________________________________________________\n",
      "conv5_block2_add (Add)          (None, 7, 7, 2048)   0           conv5_block1_out[0][0]           \n",
      "                                                                 conv5_block2_3_bn[0][0]          \n",
      "__________________________________________________________________________________________________\n",
      "conv5_block2_out (Activation)   (None, 7, 7, 2048)   0           conv5_block2_add[0][0]           \n",
      "__________________________________________________________________________________________________\n",
      "conv5_block3_1_conv (Conv2D)    (None, 7, 7, 512)    1049088     conv5_block2_out[0][0]           \n",
      "__________________________________________________________________________________________________\n",
      "conv5_block3_1_bn (BatchNormali (None, 7, 7, 512)    2048        conv5_block3_1_conv[0][0]        \n",
      "__________________________________________________________________________________________________\n",
      "conv5_block3_1_relu (Activation (None, 7, 7, 512)    0           conv5_block3_1_bn[0][0]          \n",
      "__________________________________________________________________________________________________\n",
      "conv5_block3_2_conv (Conv2D)    (None, 7, 7, 512)    2359808     conv5_block3_1_relu[0][0]        \n",
      "__________________________________________________________________________________________________\n",
      "conv5_block3_2_bn (BatchNormali (None, 7, 7, 512)    2048        conv5_block3_2_conv[0][0]        \n",
      "__________________________________________________________________________________________________\n",
      "conv5_block3_2_relu (Activation (None, 7, 7, 512)    0           conv5_block3_2_bn[0][0]          \n",
      "__________________________________________________________________________________________________\n",
      "conv5_block3_3_conv (Conv2D)    (None, 7, 7, 2048)   1050624     conv5_block3_2_relu[0][0]        \n",
      "__________________________________________________________________________________________________\n",
      "conv5_block3_3_bn (BatchNormali (None, 7, 7, 2048)   8192        conv5_block3_3_conv[0][0]        \n",
      "__________________________________________________________________________________________________\n",
      "conv5_block3_add (Add)          (None, 7, 7, 2048)   0           conv5_block2_out[0][0]           \n",
      "                                                                 conv5_block3_3_bn[0][0]          \n",
      "__________________________________________________________________________________________________\n",
      "conv5_block3_out (Activation)   (None, 7, 7, 2048)   0           conv5_block3_add[0][0]           \n",
      "__________________________________________________________________________________________________\n",
      "avg_pool (GlobalAveragePooling2 (None, 2048)         0           conv5_block3_out[0][0]           \n",
      "__________________________________________________________________________________________________\n",
      "predictions (Dense)             (None, 1000)         2049000     avg_pool[0][0]                   \n",
      "==================================================================================================\n",
      "Total params: 25,636,712\n",
      "Trainable params: 25,583,592\n",
      "Non-trainable params: 53,120\n",
      "__________________________________________________________________________________________________\n"
     ]
    }
   ],
   "source": [
    "incept_model.summary()"
   ]
  },
  {
   "cell_type": "code",
   "execution_count": 7,
   "id": "1350961f",
   "metadata": {
    "execution": {
     "iopub.execute_input": "2021-09-21T02:27:40.772318Z",
     "iopub.status.busy": "2021-09-21T02:27:40.763410Z",
     "iopub.status.idle": "2021-09-21T02:27:40.774291Z",
     "shell.execute_reply": "2021-09-21T02:27:40.774692Z",
     "shell.execute_reply.started": "2021-09-21T02:18:24.386601Z"
    },
    "papermill": {
     "duration": 0.075603,
     "end_time": "2021-09-21T02:27:40.774811",
     "exception": false,
     "start_time": "2021-09-21T02:27:40.699208",
     "status": "completed"
    },
    "tags": []
   },
   "outputs": [],
   "source": [
    "from tensorflow.keras.models import Model \n",
    "last_layer = incept_model.layers[-2].output\n",
    "model = Model(inputs=incept_model.input,outputs=last_layer)"
   ]
  },
  {
   "cell_type": "code",
   "execution_count": 8,
   "id": "7c1e7e81",
   "metadata": {
    "execution": {
     "iopub.execute_input": "2021-09-21T02:27:40.896406Z",
     "iopub.status.busy": "2021-09-21T02:27:40.895718Z",
     "iopub.status.idle": "2021-09-21T02:27:40.898262Z",
     "shell.execute_reply": "2021-09-21T02:27:40.898743Z",
     "shell.execute_reply.started": "2021-09-21T02:18:24.404443Z"
    },
    "papermill": {
     "duration": 0.065507,
     "end_time": "2021-09-21T02:27:40.898859",
     "exception": false,
     "start_time": "2021-09-21T02:27:40.833352",
     "status": "completed"
    },
    "tags": []
   },
   "outputs": [
    {
     "data": {
      "text/plain": [
       "<KerasTensor: shape=(None, 224, 224, 3) dtype=float32 (created by layer 'input_1')>"
      ]
     },
     "execution_count": 8,
     "metadata": {},
     "output_type": "execute_result"
    }
   ],
   "source": [
    "incept_model.input\n"
   ]
  },
  {
   "cell_type": "code",
   "execution_count": 9,
   "id": "cdee6a77",
   "metadata": {
    "execution": {
     "iopub.execute_input": "2021-09-21T02:27:41.020838Z",
     "iopub.status.busy": "2021-09-21T02:27:41.020000Z",
     "iopub.status.idle": "2021-09-21T02:27:41.102759Z",
     "shell.execute_reply": "2021-09-21T02:27:41.102050Z",
     "shell.execute_reply.started": "2021-09-21T02:18:24.412648Z"
    },
    "papermill": {
     "duration": 0.145419,
     "end_time": "2021-09-21T02:27:41.102897",
     "exception": false,
     "start_time": "2021-09-21T02:27:40.957478",
     "status": "completed"
    },
    "tags": []
   },
   "outputs": [
    {
     "name": "stdout",
     "output_type": "stream",
     "text": [
      "Model: \"model\"\n",
      "__________________________________________________________________________________________________\n",
      "Layer (type)                    Output Shape         Param #     Connected to                     \n",
      "==================================================================================================\n",
      "input_1 (InputLayer)            [(None, 224, 224, 3) 0                                            \n",
      "__________________________________________________________________________________________________\n",
      "conv1_pad (ZeroPadding2D)       (None, 230, 230, 3)  0           input_1[0][0]                    \n",
      "__________________________________________________________________________________________________\n",
      "conv1_conv (Conv2D)             (None, 112, 112, 64) 9472        conv1_pad[0][0]                  \n",
      "__________________________________________________________________________________________________\n",
      "conv1_bn (BatchNormalization)   (None, 112, 112, 64) 256         conv1_conv[0][0]                 \n",
      "__________________________________________________________________________________________________\n",
      "conv1_relu (Activation)         (None, 112, 112, 64) 0           conv1_bn[0][0]                   \n",
      "__________________________________________________________________________________________________\n",
      "pool1_pad (ZeroPadding2D)       (None, 114, 114, 64) 0           conv1_relu[0][0]                 \n",
      "__________________________________________________________________________________________________\n",
      "pool1_pool (MaxPooling2D)       (None, 56, 56, 64)   0           pool1_pad[0][0]                  \n",
      "__________________________________________________________________________________________________\n",
      "conv2_block1_1_conv (Conv2D)    (None, 56, 56, 64)   4160        pool1_pool[0][0]                 \n",
      "__________________________________________________________________________________________________\n",
      "conv2_block1_1_bn (BatchNormali (None, 56, 56, 64)   256         conv2_block1_1_conv[0][0]        \n",
      "__________________________________________________________________________________________________\n",
      "conv2_block1_1_relu (Activation (None, 56, 56, 64)   0           conv2_block1_1_bn[0][0]          \n",
      "__________________________________________________________________________________________________\n",
      "conv2_block1_2_conv (Conv2D)    (None, 56, 56, 64)   36928       conv2_block1_1_relu[0][0]        \n",
      "__________________________________________________________________________________________________\n",
      "conv2_block1_2_bn (BatchNormali (None, 56, 56, 64)   256         conv2_block1_2_conv[0][0]        \n",
      "__________________________________________________________________________________________________\n",
      "conv2_block1_2_relu (Activation (None, 56, 56, 64)   0           conv2_block1_2_bn[0][0]          \n",
      "__________________________________________________________________________________________________\n",
      "conv2_block1_0_conv (Conv2D)    (None, 56, 56, 256)  16640       pool1_pool[0][0]                 \n",
      "__________________________________________________________________________________________________\n",
      "conv2_block1_3_conv (Conv2D)    (None, 56, 56, 256)  16640       conv2_block1_2_relu[0][0]        \n",
      "__________________________________________________________________________________________________\n",
      "conv2_block1_0_bn (BatchNormali (None, 56, 56, 256)  1024        conv2_block1_0_conv[0][0]        \n",
      "__________________________________________________________________________________________________\n",
      "conv2_block1_3_bn (BatchNormali (None, 56, 56, 256)  1024        conv2_block1_3_conv[0][0]        \n",
      "__________________________________________________________________________________________________\n",
      "conv2_block1_add (Add)          (None, 56, 56, 256)  0           conv2_block1_0_bn[0][0]          \n",
      "                                                                 conv2_block1_3_bn[0][0]          \n",
      "__________________________________________________________________________________________________\n",
      "conv2_block1_out (Activation)   (None, 56, 56, 256)  0           conv2_block1_add[0][0]           \n",
      "__________________________________________________________________________________________________\n",
      "conv2_block2_1_conv (Conv2D)    (None, 56, 56, 64)   16448       conv2_block1_out[0][0]           \n",
      "__________________________________________________________________________________________________\n",
      "conv2_block2_1_bn (BatchNormali (None, 56, 56, 64)   256         conv2_block2_1_conv[0][0]        \n",
      "__________________________________________________________________________________________________\n",
      "conv2_block2_1_relu (Activation (None, 56, 56, 64)   0           conv2_block2_1_bn[0][0]          \n",
      "__________________________________________________________________________________________________\n",
      "conv2_block2_2_conv (Conv2D)    (None, 56, 56, 64)   36928       conv2_block2_1_relu[0][0]        \n",
      "__________________________________________________________________________________________________\n",
      "conv2_block2_2_bn (BatchNormali (None, 56, 56, 64)   256         conv2_block2_2_conv[0][0]        \n",
      "__________________________________________________________________________________________________\n",
      "conv2_block2_2_relu (Activation (None, 56, 56, 64)   0           conv2_block2_2_bn[0][0]          \n",
      "__________________________________________________________________________________________________\n",
      "conv2_block2_3_conv (Conv2D)    (None, 56, 56, 256)  16640       conv2_block2_2_relu[0][0]        \n",
      "__________________________________________________________________________________________________\n",
      "conv2_block2_3_bn (BatchNormali (None, 56, 56, 256)  1024        conv2_block2_3_conv[0][0]        \n",
      "__________________________________________________________________________________________________\n",
      "conv2_block2_add (Add)          (None, 56, 56, 256)  0           conv2_block1_out[0][0]           \n",
      "                                                                 conv2_block2_3_bn[0][0]          \n",
      "__________________________________________________________________________________________________\n",
      "conv2_block2_out (Activation)   (None, 56, 56, 256)  0           conv2_block2_add[0][0]           \n",
      "__________________________________________________________________________________________________\n",
      "conv2_block3_1_conv (Conv2D)    (None, 56, 56, 64)   16448       conv2_block2_out[0][0]           \n",
      "__________________________________________________________________________________________________\n",
      "conv2_block3_1_bn (BatchNormali (None, 56, 56, 64)   256         conv2_block3_1_conv[0][0]        \n",
      "__________________________________________________________________________________________________\n",
      "conv2_block3_1_relu (Activation (None, 56, 56, 64)   0           conv2_block3_1_bn[0][0]          \n",
      "__________________________________________________________________________________________________\n",
      "conv2_block3_2_conv (Conv2D)    (None, 56, 56, 64)   36928       conv2_block3_1_relu[0][0]        \n",
      "__________________________________________________________________________________________________\n",
      "conv2_block3_2_bn (BatchNormali (None, 56, 56, 64)   256         conv2_block3_2_conv[0][0]        \n",
      "__________________________________________________________________________________________________\n",
      "conv2_block3_2_relu (Activation (None, 56, 56, 64)   0           conv2_block3_2_bn[0][0]          \n",
      "__________________________________________________________________________________________________\n",
      "conv2_block3_3_conv (Conv2D)    (None, 56, 56, 256)  16640       conv2_block3_2_relu[0][0]        \n",
      "__________________________________________________________________________________________________\n",
      "conv2_block3_3_bn (BatchNormali (None, 56, 56, 256)  1024        conv2_block3_3_conv[0][0]        \n",
      "__________________________________________________________________________________________________\n",
      "conv2_block3_add (Add)          (None, 56, 56, 256)  0           conv2_block2_out[0][0]           \n",
      "                                                                 conv2_block3_3_bn[0][0]          \n",
      "__________________________________________________________________________________________________\n",
      "conv2_block3_out (Activation)   (None, 56, 56, 256)  0           conv2_block3_add[0][0]           \n",
      "__________________________________________________________________________________________________\n",
      "conv3_block1_1_conv (Conv2D)    (None, 28, 28, 128)  32896       conv2_block3_out[0][0]           \n",
      "__________________________________________________________________________________________________\n",
      "conv3_block1_1_bn (BatchNormali (None, 28, 28, 128)  512         conv3_block1_1_conv[0][0]        \n",
      "__________________________________________________________________________________________________\n",
      "conv3_block1_1_relu (Activation (None, 28, 28, 128)  0           conv3_block1_1_bn[0][0]          \n",
      "__________________________________________________________________________________________________\n",
      "conv3_block1_2_conv (Conv2D)    (None, 28, 28, 128)  147584      conv3_block1_1_relu[0][0]        \n",
      "__________________________________________________________________________________________________\n",
      "conv3_block1_2_bn (BatchNormali (None, 28, 28, 128)  512         conv3_block1_2_conv[0][0]        \n",
      "__________________________________________________________________________________________________\n",
      "conv3_block1_2_relu (Activation (None, 28, 28, 128)  0           conv3_block1_2_bn[0][0]          \n",
      "__________________________________________________________________________________________________\n",
      "conv3_block1_0_conv (Conv2D)    (None, 28, 28, 512)  131584      conv2_block3_out[0][0]           \n",
      "__________________________________________________________________________________________________\n",
      "conv3_block1_3_conv (Conv2D)    (None, 28, 28, 512)  66048       conv3_block1_2_relu[0][0]        \n",
      "__________________________________________________________________________________________________\n",
      "conv3_block1_0_bn (BatchNormali (None, 28, 28, 512)  2048        conv3_block1_0_conv[0][0]        \n",
      "__________________________________________________________________________________________________\n",
      "conv3_block1_3_bn (BatchNormali (None, 28, 28, 512)  2048        conv3_block1_3_conv[0][0]        \n",
      "__________________________________________________________________________________________________\n",
      "conv3_block1_add (Add)          (None, 28, 28, 512)  0           conv3_block1_0_bn[0][0]          \n",
      "                                                                 conv3_block1_3_bn[0][0]          \n",
      "__________________________________________________________________________________________________\n",
      "conv3_block1_out (Activation)   (None, 28, 28, 512)  0           conv3_block1_add[0][0]           \n",
      "__________________________________________________________________________________________________\n",
      "conv3_block2_1_conv (Conv2D)    (None, 28, 28, 128)  65664       conv3_block1_out[0][0]           \n",
      "__________________________________________________________________________________________________\n",
      "conv3_block2_1_bn (BatchNormali (None, 28, 28, 128)  512         conv3_block2_1_conv[0][0]        \n",
      "__________________________________________________________________________________________________\n",
      "conv3_block2_1_relu (Activation (None, 28, 28, 128)  0           conv3_block2_1_bn[0][0]          \n",
      "__________________________________________________________________________________________________\n",
      "conv3_block2_2_conv (Conv2D)    (None, 28, 28, 128)  147584      conv3_block2_1_relu[0][0]        \n",
      "__________________________________________________________________________________________________\n",
      "conv3_block2_2_bn (BatchNormali (None, 28, 28, 128)  512         conv3_block2_2_conv[0][0]        \n",
      "__________________________________________________________________________________________________\n",
      "conv3_block2_2_relu (Activation (None, 28, 28, 128)  0           conv3_block2_2_bn[0][0]          \n",
      "__________________________________________________________________________________________________\n",
      "conv3_block2_3_conv (Conv2D)    (None, 28, 28, 512)  66048       conv3_block2_2_relu[0][0]        \n",
      "__________________________________________________________________________________________________\n",
      "conv3_block2_3_bn (BatchNormali (None, 28, 28, 512)  2048        conv3_block2_3_conv[0][0]        \n",
      "__________________________________________________________________________________________________\n",
      "conv3_block2_add (Add)          (None, 28, 28, 512)  0           conv3_block1_out[0][0]           \n",
      "                                                                 conv3_block2_3_bn[0][0]          \n",
      "__________________________________________________________________________________________________\n",
      "conv3_block2_out (Activation)   (None, 28, 28, 512)  0           conv3_block2_add[0][0]           \n",
      "__________________________________________________________________________________________________\n",
      "conv3_block3_1_conv (Conv2D)    (None, 28, 28, 128)  65664       conv3_block2_out[0][0]           \n",
      "__________________________________________________________________________________________________\n",
      "conv3_block3_1_bn (BatchNormali (None, 28, 28, 128)  512         conv3_block3_1_conv[0][0]        \n",
      "__________________________________________________________________________________________________\n",
      "conv3_block3_1_relu (Activation (None, 28, 28, 128)  0           conv3_block3_1_bn[0][0]          \n",
      "__________________________________________________________________________________________________\n",
      "conv3_block3_2_conv (Conv2D)    (None, 28, 28, 128)  147584      conv3_block3_1_relu[0][0]        \n",
      "__________________________________________________________________________________________________\n",
      "conv3_block3_2_bn (BatchNormali (None, 28, 28, 128)  512         conv3_block3_2_conv[0][0]        \n",
      "__________________________________________________________________________________________________\n",
      "conv3_block3_2_relu (Activation (None, 28, 28, 128)  0           conv3_block3_2_bn[0][0]          \n",
      "__________________________________________________________________________________________________\n",
      "conv3_block3_3_conv (Conv2D)    (None, 28, 28, 512)  66048       conv3_block3_2_relu[0][0]        \n",
      "__________________________________________________________________________________________________\n",
      "conv3_block3_3_bn (BatchNormali (None, 28, 28, 512)  2048        conv3_block3_3_conv[0][0]        \n",
      "__________________________________________________________________________________________________\n",
      "conv3_block3_add (Add)          (None, 28, 28, 512)  0           conv3_block2_out[0][0]           \n",
      "                                                                 conv3_block3_3_bn[0][0]          \n",
      "__________________________________________________________________________________________________\n",
      "conv3_block3_out (Activation)   (None, 28, 28, 512)  0           conv3_block3_add[0][0]           \n",
      "__________________________________________________________________________________________________\n",
      "conv3_block4_1_conv (Conv2D)    (None, 28, 28, 128)  65664       conv3_block3_out[0][0]           \n",
      "__________________________________________________________________________________________________\n",
      "conv3_block4_1_bn (BatchNormali (None, 28, 28, 128)  512         conv3_block4_1_conv[0][0]        \n",
      "__________________________________________________________________________________________________\n",
      "conv3_block4_1_relu (Activation (None, 28, 28, 128)  0           conv3_block4_1_bn[0][0]          \n",
      "__________________________________________________________________________________________________\n",
      "conv3_block4_2_conv (Conv2D)    (None, 28, 28, 128)  147584      conv3_block4_1_relu[0][0]        \n",
      "__________________________________________________________________________________________________\n",
      "conv3_block4_2_bn (BatchNormali (None, 28, 28, 128)  512         conv3_block4_2_conv[0][0]        \n",
      "__________________________________________________________________________________________________\n",
      "conv3_block4_2_relu (Activation (None, 28, 28, 128)  0           conv3_block4_2_bn[0][0]          \n",
      "__________________________________________________________________________________________________\n",
      "conv3_block4_3_conv (Conv2D)    (None, 28, 28, 512)  66048       conv3_block4_2_relu[0][0]        \n",
      "__________________________________________________________________________________________________\n",
      "conv3_block4_3_bn (BatchNormali (None, 28, 28, 512)  2048        conv3_block4_3_conv[0][0]        \n",
      "__________________________________________________________________________________________________\n",
      "conv3_block4_add (Add)          (None, 28, 28, 512)  0           conv3_block3_out[0][0]           \n",
      "                                                                 conv3_block4_3_bn[0][0]          \n",
      "__________________________________________________________________________________________________\n",
      "conv3_block4_out (Activation)   (None, 28, 28, 512)  0           conv3_block4_add[0][0]           \n",
      "__________________________________________________________________________________________________\n",
      "conv4_block1_1_conv (Conv2D)    (None, 14, 14, 256)  131328      conv3_block4_out[0][0]           \n",
      "__________________________________________________________________________________________________\n",
      "conv4_block1_1_bn (BatchNormali (None, 14, 14, 256)  1024        conv4_block1_1_conv[0][0]        \n",
      "__________________________________________________________________________________________________\n",
      "conv4_block1_1_relu (Activation (None, 14, 14, 256)  0           conv4_block1_1_bn[0][0]          \n",
      "__________________________________________________________________________________________________\n",
      "conv4_block1_2_conv (Conv2D)    (None, 14, 14, 256)  590080      conv4_block1_1_relu[0][0]        \n",
      "__________________________________________________________________________________________________\n",
      "conv4_block1_2_bn (BatchNormali (None, 14, 14, 256)  1024        conv4_block1_2_conv[0][0]        \n",
      "__________________________________________________________________________________________________\n",
      "conv4_block1_2_relu (Activation (None, 14, 14, 256)  0           conv4_block1_2_bn[0][0]          \n",
      "__________________________________________________________________________________________________\n",
      "conv4_block1_0_conv (Conv2D)    (None, 14, 14, 1024) 525312      conv3_block4_out[0][0]           \n",
      "__________________________________________________________________________________________________\n",
      "conv4_block1_3_conv (Conv2D)    (None, 14, 14, 1024) 263168      conv4_block1_2_relu[0][0]        \n",
      "__________________________________________________________________________________________________\n",
      "conv4_block1_0_bn (BatchNormali (None, 14, 14, 1024) 4096        conv4_block1_0_conv[0][0]        \n",
      "__________________________________________________________________________________________________\n",
      "conv4_block1_3_bn (BatchNormali (None, 14, 14, 1024) 4096        conv4_block1_3_conv[0][0]        \n",
      "__________________________________________________________________________________________________\n",
      "conv4_block1_add (Add)          (None, 14, 14, 1024) 0           conv4_block1_0_bn[0][0]          \n",
      "                                                                 conv4_block1_3_bn[0][0]          \n",
      "__________________________________________________________________________________________________\n",
      "conv4_block1_out (Activation)   (None, 14, 14, 1024) 0           conv4_block1_add[0][0]           \n",
      "__________________________________________________________________________________________________\n",
      "conv4_block2_1_conv (Conv2D)    (None, 14, 14, 256)  262400      conv4_block1_out[0][0]           \n",
      "__________________________________________________________________________________________________\n",
      "conv4_block2_1_bn (BatchNormali (None, 14, 14, 256)  1024        conv4_block2_1_conv[0][0]        \n",
      "__________________________________________________________________________________________________\n",
      "conv4_block2_1_relu (Activation (None, 14, 14, 256)  0           conv4_block2_1_bn[0][0]          \n",
      "__________________________________________________________________________________________________\n",
      "conv4_block2_2_conv (Conv2D)    (None, 14, 14, 256)  590080      conv4_block2_1_relu[0][0]        \n",
      "__________________________________________________________________________________________________\n",
      "conv4_block2_2_bn (BatchNormali (None, 14, 14, 256)  1024        conv4_block2_2_conv[0][0]        \n",
      "__________________________________________________________________________________________________\n",
      "conv4_block2_2_relu (Activation (None, 14, 14, 256)  0           conv4_block2_2_bn[0][0]          \n",
      "__________________________________________________________________________________________________\n",
      "conv4_block2_3_conv (Conv2D)    (None, 14, 14, 1024) 263168      conv4_block2_2_relu[0][0]        \n",
      "__________________________________________________________________________________________________\n",
      "conv4_block2_3_bn (BatchNormali (None, 14, 14, 1024) 4096        conv4_block2_3_conv[0][0]        \n",
      "__________________________________________________________________________________________________\n",
      "conv4_block2_add (Add)          (None, 14, 14, 1024) 0           conv4_block1_out[0][0]           \n",
      "                                                                 conv4_block2_3_bn[0][0]          \n",
      "__________________________________________________________________________________________________\n",
      "conv4_block2_out (Activation)   (None, 14, 14, 1024) 0           conv4_block2_add[0][0]           \n",
      "__________________________________________________________________________________________________\n",
      "conv4_block3_1_conv (Conv2D)    (None, 14, 14, 256)  262400      conv4_block2_out[0][0]           \n",
      "__________________________________________________________________________________________________\n",
      "conv4_block3_1_bn (BatchNormali (None, 14, 14, 256)  1024        conv4_block3_1_conv[0][0]        \n",
      "__________________________________________________________________________________________________\n",
      "conv4_block3_1_relu (Activation (None, 14, 14, 256)  0           conv4_block3_1_bn[0][0]          \n",
      "__________________________________________________________________________________________________\n",
      "conv4_block3_2_conv (Conv2D)    (None, 14, 14, 256)  590080      conv4_block3_1_relu[0][0]        \n",
      "__________________________________________________________________________________________________\n",
      "conv4_block3_2_bn (BatchNormali (None, 14, 14, 256)  1024        conv4_block3_2_conv[0][0]        \n",
      "__________________________________________________________________________________________________\n",
      "conv4_block3_2_relu (Activation (None, 14, 14, 256)  0           conv4_block3_2_bn[0][0]          \n",
      "__________________________________________________________________________________________________\n",
      "conv4_block3_3_conv (Conv2D)    (None, 14, 14, 1024) 263168      conv4_block3_2_relu[0][0]        \n",
      "__________________________________________________________________________________________________\n",
      "conv4_block3_3_bn (BatchNormali (None, 14, 14, 1024) 4096        conv4_block3_3_conv[0][0]        \n",
      "__________________________________________________________________________________________________\n",
      "conv4_block3_add (Add)          (None, 14, 14, 1024) 0           conv4_block2_out[0][0]           \n",
      "                                                                 conv4_block3_3_bn[0][0]          \n",
      "__________________________________________________________________________________________________\n",
      "conv4_block3_out (Activation)   (None, 14, 14, 1024) 0           conv4_block3_add[0][0]           \n",
      "__________________________________________________________________________________________________\n",
      "conv4_block4_1_conv (Conv2D)    (None, 14, 14, 256)  262400      conv4_block3_out[0][0]           \n",
      "__________________________________________________________________________________________________\n",
      "conv4_block4_1_bn (BatchNormali (None, 14, 14, 256)  1024        conv4_block4_1_conv[0][0]        \n",
      "__________________________________________________________________________________________________\n",
      "conv4_block4_1_relu (Activation (None, 14, 14, 256)  0           conv4_block4_1_bn[0][0]          \n",
      "__________________________________________________________________________________________________\n",
      "conv4_block4_2_conv (Conv2D)    (None, 14, 14, 256)  590080      conv4_block4_1_relu[0][0]        \n",
      "__________________________________________________________________________________________________\n",
      "conv4_block4_2_bn (BatchNormali (None, 14, 14, 256)  1024        conv4_block4_2_conv[0][0]        \n",
      "__________________________________________________________________________________________________\n",
      "conv4_block4_2_relu (Activation (None, 14, 14, 256)  0           conv4_block4_2_bn[0][0]          \n",
      "__________________________________________________________________________________________________\n",
      "conv4_block4_3_conv (Conv2D)    (None, 14, 14, 1024) 263168      conv4_block4_2_relu[0][0]        \n",
      "__________________________________________________________________________________________________\n",
      "conv4_block4_3_bn (BatchNormali (None, 14, 14, 1024) 4096        conv4_block4_3_conv[0][0]        \n",
      "__________________________________________________________________________________________________\n",
      "conv4_block4_add (Add)          (None, 14, 14, 1024) 0           conv4_block3_out[0][0]           \n",
      "                                                                 conv4_block4_3_bn[0][0]          \n",
      "__________________________________________________________________________________________________\n",
      "conv4_block4_out (Activation)   (None, 14, 14, 1024) 0           conv4_block4_add[0][0]           \n",
      "__________________________________________________________________________________________________\n",
      "conv4_block5_1_conv (Conv2D)    (None, 14, 14, 256)  262400      conv4_block4_out[0][0]           \n",
      "__________________________________________________________________________________________________\n",
      "conv4_block5_1_bn (BatchNormali (None, 14, 14, 256)  1024        conv4_block5_1_conv[0][0]        \n",
      "__________________________________________________________________________________________________\n",
      "conv4_block5_1_relu (Activation (None, 14, 14, 256)  0           conv4_block5_1_bn[0][0]          \n",
      "__________________________________________________________________________________________________\n",
      "conv4_block5_2_conv (Conv2D)    (None, 14, 14, 256)  590080      conv4_block5_1_relu[0][0]        \n",
      "__________________________________________________________________________________________________\n",
      "conv4_block5_2_bn (BatchNormali (None, 14, 14, 256)  1024        conv4_block5_2_conv[0][0]        \n",
      "__________________________________________________________________________________________________\n",
      "conv4_block5_2_relu (Activation (None, 14, 14, 256)  0           conv4_block5_2_bn[0][0]          \n",
      "__________________________________________________________________________________________________\n",
      "conv4_block5_3_conv (Conv2D)    (None, 14, 14, 1024) 263168      conv4_block5_2_relu[0][0]        \n",
      "__________________________________________________________________________________________________\n",
      "conv4_block5_3_bn (BatchNormali (None, 14, 14, 1024) 4096        conv4_block5_3_conv[0][0]        \n",
      "__________________________________________________________________________________________________\n",
      "conv4_block5_add (Add)          (None, 14, 14, 1024) 0           conv4_block4_out[0][0]           \n",
      "                                                                 conv4_block5_3_bn[0][0]          \n",
      "__________________________________________________________________________________________________\n",
      "conv4_block5_out (Activation)   (None, 14, 14, 1024) 0           conv4_block5_add[0][0]           \n",
      "__________________________________________________________________________________________________\n",
      "conv4_block6_1_conv (Conv2D)    (None, 14, 14, 256)  262400      conv4_block5_out[0][0]           \n",
      "__________________________________________________________________________________________________\n",
      "conv4_block6_1_bn (BatchNormali (None, 14, 14, 256)  1024        conv4_block6_1_conv[0][0]        \n",
      "__________________________________________________________________________________________________\n",
      "conv4_block6_1_relu (Activation (None, 14, 14, 256)  0           conv4_block6_1_bn[0][0]          \n",
      "__________________________________________________________________________________________________\n",
      "conv4_block6_2_conv (Conv2D)    (None, 14, 14, 256)  590080      conv4_block6_1_relu[0][0]        \n",
      "__________________________________________________________________________________________________\n",
      "conv4_block6_2_bn (BatchNormali (None, 14, 14, 256)  1024        conv4_block6_2_conv[0][0]        \n",
      "__________________________________________________________________________________________________\n",
      "conv4_block6_2_relu (Activation (None, 14, 14, 256)  0           conv4_block6_2_bn[0][0]          \n",
      "__________________________________________________________________________________________________\n",
      "conv4_block6_3_conv (Conv2D)    (None, 14, 14, 1024) 263168      conv4_block6_2_relu[0][0]        \n",
      "__________________________________________________________________________________________________\n",
      "conv4_block6_3_bn (BatchNormali (None, 14, 14, 1024) 4096        conv4_block6_3_conv[0][0]        \n",
      "__________________________________________________________________________________________________\n",
      "conv4_block6_add (Add)          (None, 14, 14, 1024) 0           conv4_block5_out[0][0]           \n",
      "                                                                 conv4_block6_3_bn[0][0]          \n",
      "__________________________________________________________________________________________________\n",
      "conv4_block6_out (Activation)   (None, 14, 14, 1024) 0           conv4_block6_add[0][0]           \n",
      "__________________________________________________________________________________________________\n",
      "conv5_block1_1_conv (Conv2D)    (None, 7, 7, 512)    524800      conv4_block6_out[0][0]           \n",
      "__________________________________________________________________________________________________\n",
      "conv5_block1_1_bn (BatchNormali (None, 7, 7, 512)    2048        conv5_block1_1_conv[0][0]        \n",
      "__________________________________________________________________________________________________\n",
      "conv5_block1_1_relu (Activation (None, 7, 7, 512)    0           conv5_block1_1_bn[0][0]          \n",
      "__________________________________________________________________________________________________\n",
      "conv5_block1_2_conv (Conv2D)    (None, 7, 7, 512)    2359808     conv5_block1_1_relu[0][0]        \n",
      "__________________________________________________________________________________________________\n",
      "conv5_block1_2_bn (BatchNormali (None, 7, 7, 512)    2048        conv5_block1_2_conv[0][0]        \n",
      "__________________________________________________________________________________________________\n",
      "conv5_block1_2_relu (Activation (None, 7, 7, 512)    0           conv5_block1_2_bn[0][0]          \n",
      "__________________________________________________________________________________________________\n",
      "conv5_block1_0_conv (Conv2D)    (None, 7, 7, 2048)   2099200     conv4_block6_out[0][0]           \n",
      "__________________________________________________________________________________________________\n",
      "conv5_block1_3_conv (Conv2D)    (None, 7, 7, 2048)   1050624     conv5_block1_2_relu[0][0]        \n",
      "__________________________________________________________________________________________________\n",
      "conv5_block1_0_bn (BatchNormali (None, 7, 7, 2048)   8192        conv5_block1_0_conv[0][0]        \n",
      "__________________________________________________________________________________________________\n",
      "conv5_block1_3_bn (BatchNormali (None, 7, 7, 2048)   8192        conv5_block1_3_conv[0][0]        \n",
      "__________________________________________________________________________________________________\n",
      "conv5_block1_add (Add)          (None, 7, 7, 2048)   0           conv5_block1_0_bn[0][0]          \n",
      "                                                                 conv5_block1_3_bn[0][0]          \n",
      "__________________________________________________________________________________________________\n",
      "conv5_block1_out (Activation)   (None, 7, 7, 2048)   0           conv5_block1_add[0][0]           \n",
      "__________________________________________________________________________________________________\n",
      "conv5_block2_1_conv (Conv2D)    (None, 7, 7, 512)    1049088     conv5_block1_out[0][0]           \n",
      "__________________________________________________________________________________________________\n",
      "conv5_block2_1_bn (BatchNormali (None, 7, 7, 512)    2048        conv5_block2_1_conv[0][0]        \n",
      "__________________________________________________________________________________________________\n",
      "conv5_block2_1_relu (Activation (None, 7, 7, 512)    0           conv5_block2_1_bn[0][0]          \n",
      "__________________________________________________________________________________________________\n",
      "conv5_block2_2_conv (Conv2D)    (None, 7, 7, 512)    2359808     conv5_block2_1_relu[0][0]        \n",
      "__________________________________________________________________________________________________\n",
      "conv5_block2_2_bn (BatchNormali (None, 7, 7, 512)    2048        conv5_block2_2_conv[0][0]        \n",
      "__________________________________________________________________________________________________\n",
      "conv5_block2_2_relu (Activation (None, 7, 7, 512)    0           conv5_block2_2_bn[0][0]          \n",
      "__________________________________________________________________________________________________\n",
      "conv5_block2_3_conv (Conv2D)    (None, 7, 7, 2048)   1050624     conv5_block2_2_relu[0][0]        \n",
      "__________________________________________________________________________________________________\n",
      "conv5_block2_3_bn (BatchNormali (None, 7, 7, 2048)   8192        conv5_block2_3_conv[0][0]        \n",
      "__________________________________________________________________________________________________\n",
      "conv5_block2_add (Add)          (None, 7, 7, 2048)   0           conv5_block1_out[0][0]           \n",
      "                                                                 conv5_block2_3_bn[0][0]          \n",
      "__________________________________________________________________________________________________\n",
      "conv5_block2_out (Activation)   (None, 7, 7, 2048)   0           conv5_block2_add[0][0]           \n",
      "__________________________________________________________________________________________________\n",
      "conv5_block3_1_conv (Conv2D)    (None, 7, 7, 512)    1049088     conv5_block2_out[0][0]           \n",
      "__________________________________________________________________________________________________\n",
      "conv5_block3_1_bn (BatchNormali (None, 7, 7, 512)    2048        conv5_block3_1_conv[0][0]        \n",
      "__________________________________________________________________________________________________\n",
      "conv5_block3_1_relu (Activation (None, 7, 7, 512)    0           conv5_block3_1_bn[0][0]          \n",
      "__________________________________________________________________________________________________\n",
      "conv5_block3_2_conv (Conv2D)    (None, 7, 7, 512)    2359808     conv5_block3_1_relu[0][0]        \n",
      "__________________________________________________________________________________________________\n",
      "conv5_block3_2_bn (BatchNormali (None, 7, 7, 512)    2048        conv5_block3_2_conv[0][0]        \n",
      "__________________________________________________________________________________________________\n",
      "conv5_block3_2_relu (Activation (None, 7, 7, 512)    0           conv5_block3_2_bn[0][0]          \n",
      "__________________________________________________________________________________________________\n",
      "conv5_block3_3_conv (Conv2D)    (None, 7, 7, 2048)   1050624     conv5_block3_2_relu[0][0]        \n",
      "__________________________________________________________________________________________________\n",
      "conv5_block3_3_bn (BatchNormali (None, 7, 7, 2048)   8192        conv5_block3_3_conv[0][0]        \n",
      "__________________________________________________________________________________________________\n",
      "conv5_block3_add (Add)          (None, 7, 7, 2048)   0           conv5_block2_out[0][0]           \n",
      "                                                                 conv5_block3_3_bn[0][0]          \n",
      "__________________________________________________________________________________________________\n",
      "conv5_block3_out (Activation)   (None, 7, 7, 2048)   0           conv5_block3_add[0][0]           \n",
      "__________________________________________________________________________________________________\n",
      "avg_pool (GlobalAveragePooling2 (None, 2048)         0           conv5_block3_out[0][0]           \n",
      "==================================================================================================\n",
      "Total params: 23,587,712\n",
      "Trainable params: 23,534,592\n",
      "Non-trainable params: 53,120\n",
      "__________________________________________________________________________________________________\n"
     ]
    }
   ],
   "source": [
    "model.summary()"
   ]
  },
  {
   "cell_type": "markdown",
   "id": "d1169b85",
   "metadata": {
    "papermill": {
     "duration": 0.060012,
     "end_time": "2021-09-21T02:27:41.224349",
     "exception": false,
     "start_time": "2021-09-21T02:27:41.164337",
     "status": "completed"
    },
    "tags": []
   },
   "source": [
    "# Pre processing the Data"
   ]
  },
  {
   "cell_type": "markdown",
   "id": "e33c10ff",
   "metadata": {
    "execution": {
     "iopub.execute_input": "2021-09-18T22:57:51.199742Z",
     "iopub.status.busy": "2021-09-18T22:57:51.199486Z",
     "iopub.status.idle": "2021-09-18T22:57:51.223221Z",
     "shell.execute_reply": "2021-09-18T22:57:51.22208Z",
     "shell.execute_reply.started": "2021-09-18T22:57:51.199716Z"
    },
    "papermill": {
     "duration": 0.059211,
     "end_time": "2021-09-21T02:27:41.342825",
     "exception": false,
     "start_time": "2021-09-21T02:27:41.283614",
     "status": "completed"
    },
    "tags": []
   },
   "source": [
    "we are going to read the data (images) from the files and for every image we will resize it to (224,224) to being able to fiting it to the ResNet50 model "
   ]
  },
  {
   "cell_type": "code",
   "execution_count": 10,
   "id": "2ffad7fa",
   "metadata": {
    "execution": {
     "iopub.execute_input": "2021-09-21T02:27:41.476193Z",
     "iopub.status.busy": "2021-09-21T02:27:41.475578Z",
     "iopub.status.idle": "2021-09-21T02:29:36.308588Z",
     "shell.execute_reply": "2021-09-21T02:29:36.307777Z",
     "shell.execute_reply.started": "2021-09-21T02:18:24.502768Z"
    },
    "papermill": {
     "duration": 114.898297,
     "end_time": "2021-09-21T02:29:36.308770",
     "exception": false,
     "start_time": "2021-09-21T02:27:41.410473",
     "status": "completed"
    },
    "tags": []
   },
   "outputs": [
    {
     "name": "stderr",
     "output_type": "stream",
     "text": [
      "2021-09-21 02:27:41.580700: I tensorflow/compiler/mlir/mlir_graph_optimization_pass.cc:116] None of the MLIR optimization passes are enabled (registered 2)\n",
      "2021-09-21 02:27:41.590933: I tensorflow/core/platform/profile_utils/cpu_utils.cc:112] CPU Frequency: 2000179999 Hz\n",
      "2021-09-21 02:27:42.381563: I tensorflow/stream_executor/platform/default/dso_loader.cc:49] Successfully opened dynamic library libcudnn.so.8\n",
      "2021-09-21 02:27:47.572887: I tensorflow/stream_executor/platform/default/dso_loader.cc:49] Successfully opened dynamic library libcublas.so.11\n",
      "2021-09-21 02:27:48.302132: I tensorflow/stream_executor/platform/default/dso_loader.cc:49] Successfully opened dynamic library libcublasLt.so.11\n"
     ]
    },
    {
     "name": "stdout",
     "output_type": "stream",
     "text": [
      "50\n",
      "100\n",
      "150\n",
      "200\n",
      "250\n",
      "300\n",
      "350\n",
      "400\n",
      "450\n",
      "500\n",
      "550\n",
      "600\n",
      "650\n",
      "700\n",
      "750\n",
      "800\n",
      "850\n",
      "900\n",
      "950\n",
      "1000\n",
      "1050\n",
      "1100\n",
      "1150\n",
      "1200\n",
      "1250\n",
      "1300\n",
      "1350\n",
      "1400\n",
      "1450\n",
      "1500\n",
      "1550\n",
      "1600\n",
      "1650\n",
      "1700\n",
      "1750\n",
      "1800\n",
      "1850\n",
      "1900\n",
      "1950\n",
      "2000\n"
     ]
    }
   ],
   "source": [
    "images_features = {}\n",
    "count= 0\n",
    "for image in images : \n",
    "    img = cv2.imread(image)\n",
    "    img = cv2.cvtColor(img,cv2.COLOR_BGR2RGB)\n",
    "    img = cv2.resize(img,(224,224))\n",
    "    img = img.reshape(1,224,224,3)\n",
    "    predict = model.predict(img).reshape(2048,)\n",
    "    image_name = image.split(\"/\")[-1]\n",
    "    images_features[image_name] = predict\n",
    "    count +=1\n",
    "    if count>2000: \n",
    "        break\n",
    "    elif count % 50 == 0:\n",
    "        print(count)\n",
    "            \n",
    "    "
   ]
  },
  {
   "cell_type": "markdown",
   "id": "2b0cfc3a",
   "metadata": {
    "papermill": {
     "duration": 0.070072,
     "end_time": "2021-09-21T02:29:36.450959",
     "exception": false,
     "start_time": "2021-09-21T02:29:36.380887",
     "status": "completed"
    },
    "tags": []
   },
   "source": [
    "Data Preprocess"
   ]
  },
  {
   "cell_type": "code",
   "execution_count": 11,
   "id": "eb97244a",
   "metadata": {
    "execution": {
     "iopub.execute_input": "2021-09-21T02:29:36.596187Z",
     "iopub.status.busy": "2021-09-21T02:29:36.595691Z",
     "iopub.status.idle": "2021-09-21T02:29:36.599220Z",
     "shell.execute_reply": "2021-09-21T02:29:36.598828Z",
     "shell.execute_reply.started": "2021-09-21T02:20:15.840287Z"
    },
    "papermill": {
     "duration": 0.077633,
     "end_time": "2021-09-21T02:29:36.599341",
     "exception": false,
     "start_time": "2021-09-21T02:29:36.521708",
     "status": "completed"
    },
    "tags": []
   },
   "outputs": [],
   "source": [
    "captions_path = \"../input/flickr8k-sau/Flickr_Data/Flickr_TextData/Flickr8k.token.txt\""
   ]
  },
  {
   "cell_type": "code",
   "execution_count": 12,
   "id": "4d4d5e1d",
   "metadata": {
    "execution": {
     "iopub.execute_input": "2021-09-21T02:29:36.744182Z",
     "iopub.status.busy": "2021-09-21T02:29:36.743619Z",
     "iopub.status.idle": "2021-09-21T02:29:36.846975Z",
     "shell.execute_reply": "2021-09-21T02:29:36.846493Z",
     "shell.execute_reply.started": "2021-09-21T02:20:15.845990Z"
    },
    "papermill": {
     "duration": 0.177454,
     "end_time": "2021-09-21T02:29:36.847092",
     "exception": false,
     "start_time": "2021-09-21T02:29:36.669638",
     "status": "completed"
    },
    "tags": []
   },
   "outputs": [],
   "source": [
    "captions = pd.read_csv(captions_path,sep=\"\\n\",header=None)"
   ]
  },
  {
   "cell_type": "code",
   "execution_count": 13,
   "id": "342c2af8",
   "metadata": {
    "execution": {
     "iopub.execute_input": "2021-09-21T02:29:36.994799Z",
     "iopub.status.busy": "2021-09-21T02:29:36.993824Z",
     "iopub.status.idle": "2021-09-21T02:29:37.004570Z",
     "shell.execute_reply": "2021-09-21T02:29:37.004123Z",
     "shell.execute_reply.started": "2021-09-21T02:20:15.940129Z"
    },
    "papermill": {
     "duration": 0.086019,
     "end_time": "2021-09-21T02:29:37.004681",
     "exception": false,
     "start_time": "2021-09-21T02:29:36.918662",
     "status": "completed"
    },
    "tags": []
   },
   "outputs": [],
   "source": [
    "captions = open(captions_path,\"rb\").read().decode('utf8').split(\"\\n\")"
   ]
  },
  {
   "cell_type": "code",
   "execution_count": 14,
   "id": "a81cc0aa",
   "metadata": {
    "execution": {
     "iopub.execute_input": "2021-09-21T02:29:37.152895Z",
     "iopub.status.busy": "2021-09-21T02:29:37.152252Z",
     "iopub.status.idle": "2021-09-21T02:29:37.155324Z",
     "shell.execute_reply": "2021-09-21T02:29:37.155724Z",
     "shell.execute_reply.started": "2021-09-21T02:20:15.957151Z"
    },
    "papermill": {
     "duration": 0.080233,
     "end_time": "2021-09-21T02:29:37.155849",
     "exception": false,
     "start_time": "2021-09-21T02:29:37.075616",
     "status": "completed"
    },
    "tags": []
   },
   "outputs": [
    {
     "data": {
      "text/plain": [
       "'1000268201_693b08cb0e.jpg#0\\tA child in a pink dress is climbing up a set of stairs in an entry way .'"
      ]
     },
     "execution_count": 14,
     "metadata": {},
     "output_type": "execute_result"
    }
   ],
   "source": [
    "captions[0]"
   ]
  },
  {
   "cell_type": "code",
   "execution_count": 15,
   "id": "bc80931c",
   "metadata": {
    "execution": {
     "iopub.execute_input": "2021-09-21T02:29:37.345204Z",
     "iopub.status.busy": "2021-09-21T02:29:37.337336Z",
     "iopub.status.idle": "2021-09-21T02:29:37.347088Z",
     "shell.execute_reply": "2021-09-21T02:29:37.347502Z",
     "shell.execute_reply.started": "2021-09-21T02:20:15.964416Z"
    },
    "papermill": {
     "duration": 0.119693,
     "end_time": "2021-09-21T02:29:37.347629",
     "exception": false,
     "start_time": "2021-09-21T02:29:37.227936",
     "status": "completed"
    },
    "tags": []
   },
   "outputs": [],
   "source": [
    "captions_dict = {}\n",
    "for i in captions : \n",
    "    try : \n",
    "        img_name = i.split(\"\\t\")[0][:-2]\n",
    "        caption  = i.split(\"\\t\")[1]\n",
    "        if img_name in images_features: \n",
    "            if img_name not in captions_dict:\n",
    "                # the case when the image name is not created yet\n",
    "                captions_dict[img_name] = [caption]\n",
    "            else : \n",
    "                # the case where the image name is created so we will juste append the new value knowing that there is 5 captions for every image\n",
    "                captions_dict[img_name].append(caption)\n",
    "    except:\n",
    "        pass"
   ]
  },
  {
   "cell_type": "markdown",
   "id": "3974b5be",
   "metadata": {
    "papermill": {
     "duration": 0.070953,
     "end_time": "2021-09-21T02:29:37.489551",
     "exception": false,
     "start_time": "2021-09-21T02:29:37.418598",
     "status": "completed"
    },
    "tags": []
   },
   "source": [
    "Now we will add a StartOfStrinng and EndOfString Tokens to the sentences"
   ]
  },
  {
   "cell_type": "code",
   "execution_count": 16,
   "id": "dbb7a017",
   "metadata": {
    "execution": {
     "iopub.execute_input": "2021-09-21T02:29:37.636440Z",
     "iopub.status.busy": "2021-09-21T02:29:37.635861Z",
     "iopub.status.idle": "2021-09-21T02:29:37.639068Z",
     "shell.execute_reply": "2021-09-21T02:29:37.639634Z",
     "shell.execute_reply.started": "2021-09-21T02:20:16.014840Z"
    },
    "papermill": {
     "duration": 0.07893,
     "end_time": "2021-09-21T02:29:37.639760",
     "exception": false,
     "start_time": "2021-09-21T02:29:37.560830",
     "status": "completed"
    },
    "tags": []
   },
   "outputs": [],
   "source": [
    "def preprocessed(txt): \n",
    "    modified = txt.lower()\n",
    "    modified = \"startofseq\" + modified + \"endofseq\"\n",
    "    return modified"
   ]
  },
  {
   "cell_type": "code",
   "execution_count": 17,
   "id": "70a112a0",
   "metadata": {
    "execution": {
     "iopub.execute_input": "2021-09-21T02:29:37.793927Z",
     "iopub.status.busy": "2021-09-21T02:29:37.793443Z",
     "iopub.status.idle": "2021-09-21T02:29:37.796514Z",
     "shell.execute_reply": "2021-09-21T02:29:37.797209Z",
     "shell.execute_reply.started": "2021-09-21T02:20:16.022164Z"
    },
    "papermill": {
     "duration": 0.086782,
     "end_time": "2021-09-21T02:29:37.797348",
     "exception": false,
     "start_time": "2021-09-21T02:29:37.710566",
     "status": "completed"
    },
    "tags": []
   },
   "outputs": [],
   "source": [
    "for k , v in captions_dict.items() : \n",
    "    for caption in v: \n",
    "        captions_dict[k][v.index(caption)] = preprocessed(caption)\n",
    "        "
   ]
  },
  {
   "cell_type": "markdown",
   "id": "d5ad2020",
   "metadata": {
    "papermill": {
     "duration": 0.070727,
     "end_time": "2021-09-21T02:29:37.939837",
     "exception": false,
     "start_time": "2021-09-21T02:29:37.869110",
     "status": "completed"
    },
    "tags": []
   },
   "source": [
    "Now will create our vocabulary, and for this we will the Tensorflow tokenizer"
   ]
  },
  {
   "cell_type": "code",
   "execution_count": 18,
   "id": "237c1777",
   "metadata": {
    "execution": {
     "iopub.execute_input": "2021-09-21T02:29:38.090447Z",
     "iopub.status.busy": "2021-09-21T02:29:38.088908Z",
     "iopub.status.idle": "2021-09-21T02:29:38.091034Z",
     "shell.execute_reply": "2021-09-21T02:29:38.091474Z",
     "shell.execute_reply.started": "2021-09-21T02:20:16.038259Z"
    },
    "papermill": {
     "duration": 0.079495,
     "end_time": "2021-09-21T02:29:38.091604",
     "exception": false,
     "start_time": "2021-09-21T02:29:38.012109",
     "status": "completed"
    },
    "tags": []
   },
   "outputs": [],
   "source": [
    "from tensorflow.keras.preprocessing.text import Tokenizer"
   ]
  },
  {
   "cell_type": "code",
   "execution_count": 19,
   "id": "13408c04",
   "metadata": {
    "execution": {
     "iopub.execute_input": "2021-09-21T02:29:38.238043Z",
     "iopub.status.busy": "2021-09-21T02:29:38.237539Z",
     "iopub.status.idle": "2021-09-21T02:29:38.240699Z",
     "shell.execute_reply": "2021-09-21T02:29:38.241109Z",
     "shell.execute_reply.started": "2021-09-21T02:20:16.047376Z"
    },
    "papermill": {
     "duration": 0.078445,
     "end_time": "2021-09-21T02:29:38.241227",
     "exception": false,
     "start_time": "2021-09-21T02:29:38.162782",
     "status": "completed"
    },
    "tags": []
   },
   "outputs": [],
   "source": [
    "tokenizer = Tokenizer(oov_token=\"Other\")"
   ]
  },
  {
   "cell_type": "code",
   "execution_count": 20,
   "id": "eb720f0e",
   "metadata": {
    "execution": {
     "iopub.execute_input": "2021-09-21T02:29:38.389572Z",
     "iopub.status.busy": "2021-09-21T02:29:38.386055Z",
     "iopub.status.idle": "2021-09-21T02:29:38.391502Z",
     "shell.execute_reply": "2021-09-21T02:29:38.391902Z",
     "shell.execute_reply.started": "2021-09-21T02:20:16.058554Z"
    },
    "papermill": {
     "duration": 0.079992,
     "end_time": "2021-09-21T02:29:38.392019",
     "exception": false,
     "start_time": "2021-09-21T02:29:38.312027",
     "status": "completed"
    },
    "tags": []
   },
   "outputs": [],
   "source": [
    "sentences = []\n",
    "for k,v in captions_dict.items(): \n",
    "    for sentence in v: \n",
    "        sentences.append(sentence)"
   ]
  },
  {
   "cell_type": "code",
   "execution_count": 21,
   "id": "a734ceff",
   "metadata": {
    "execution": {
     "iopub.execute_input": "2021-09-21T02:29:38.572310Z",
     "iopub.status.busy": "2021-09-21T02:29:38.561972Z",
     "iopub.status.idle": "2021-09-21T02:29:38.695474Z",
     "shell.execute_reply": "2021-09-21T02:29:38.695860Z",
     "shell.execute_reply.started": "2021-09-21T02:20:16.069670Z"
    },
    "papermill": {
     "duration": 0.232902,
     "end_time": "2021-09-21T02:29:38.696000",
     "exception": false,
     "start_time": "2021-09-21T02:29:38.463098",
     "status": "completed"
    },
    "tags": []
   },
   "outputs": [],
   "source": [
    "tokenizer.fit_on_texts(sentences)"
   ]
  },
  {
   "cell_type": "code",
   "execution_count": 22,
   "id": "024858e3",
   "metadata": {
    "execution": {
     "iopub.execute_input": "2021-09-21T02:29:38.842729Z",
     "iopub.status.busy": "2021-09-21T02:29:38.842073Z",
     "iopub.status.idle": "2021-09-21T02:29:38.844351Z",
     "shell.execute_reply": "2021-09-21T02:29:38.844756Z",
     "shell.execute_reply.started": "2021-09-21T02:20:16.244519Z"
    },
    "papermill": {
     "duration": 0.077224,
     "end_time": "2021-09-21T02:29:38.844872",
     "exception": false,
     "start_time": "2021-09-21T02:29:38.767648",
     "status": "completed"
    },
    "tags": []
   },
   "outputs": [],
   "source": [
    "count_words = tokenizer.word_index"
   ]
  },
  {
   "cell_type": "code",
   "execution_count": 23,
   "id": "c2e52a4a",
   "metadata": {
    "execution": {
     "iopub.execute_input": "2021-09-21T02:29:39.015134Z",
     "iopub.status.busy": "2021-09-21T02:29:39.004661Z",
     "iopub.status.idle": "2021-09-21T02:29:39.113910Z",
     "shell.execute_reply": "2021-09-21T02:29:39.113149Z",
     "shell.execute_reply.started": "2021-09-21T02:20:16.250570Z"
    },
    "papermill": {
     "duration": 0.198492,
     "end_time": "2021-09-21T02:29:39.114023",
     "exception": false,
     "start_time": "2021-09-21T02:29:38.915531",
     "status": "completed"
    },
    "tags": []
   },
   "outputs": [],
   "source": [
    "sequences =  tokenizer.texts_to_sequences(sentences)"
   ]
  },
  {
   "cell_type": "code",
   "execution_count": 24,
   "id": "36123111",
   "metadata": {
    "execution": {
     "iopub.execute_input": "2021-09-21T02:29:39.285889Z",
     "iopub.status.busy": "2021-09-21T02:29:39.270455Z",
     "iopub.status.idle": "2021-09-21T02:29:39.300897Z",
     "shell.execute_reply": "2021-09-21T02:29:39.300348Z",
     "shell.execute_reply.started": "2021-09-21T02:20:16.382662Z"
    },
    "papermill": {
     "duration": 0.114624,
     "end_time": "2021-09-21T02:29:39.301016",
     "exception": false,
     "start_time": "2021-09-21T02:29:39.186392",
     "status": "completed"
    },
    "tags": []
   },
   "outputs": [],
   "source": [
    "sequences_images = {}\n",
    "for k,v in captions_dict.items(): \n",
    "    sequences_images[k] = sequences[:5]\n",
    "    sequences = sequences[5:]\n",
    "    "
   ]
  },
  {
   "cell_type": "code",
   "execution_count": 25,
   "id": "4eb08392",
   "metadata": {
    "execution": {
     "iopub.execute_input": "2021-09-21T02:29:39.450522Z",
     "iopub.status.busy": "2021-09-21T02:29:39.449957Z",
     "iopub.status.idle": "2021-09-21T02:29:39.453591Z",
     "shell.execute_reply": "2021-09-21T02:29:39.453146Z",
     "shell.execute_reply.started": "2021-09-21T02:20:16.426633Z"
    },
    "papermill": {
     "duration": 0.080065,
     "end_time": "2021-09-21T02:29:39.453710",
     "exception": false,
     "start_time": "2021-09-21T02:29:39.373645",
     "status": "completed"
    },
    "tags": []
   },
   "outputs": [],
   "source": [
    "from tensorflow.keras.utils import to_categorical\n",
    "from tensorflow.keras.preprocessing.sequence import pad_sequences"
   ]
  },
  {
   "cell_type": "code",
   "execution_count": 26,
   "id": "7610029a",
   "metadata": {
    "execution": {
     "iopub.execute_input": "2021-09-21T02:29:39.645044Z",
     "iopub.status.busy": "2021-09-21T02:29:39.629555Z",
     "iopub.status.idle": "2021-09-21T02:29:39.719533Z",
     "shell.execute_reply": "2021-09-21T02:29:39.719117Z",
     "shell.execute_reply.started": "2021-09-21T02:20:16.432269Z"
    },
    "papermill": {
     "duration": 0.194585,
     "end_time": "2021-09-21T02:29:39.719648",
     "exception": false,
     "start_time": "2021-09-21T02:29:39.525063",
     "status": "completed"
    },
    "tags": []
   },
   "outputs": [],
   "source": [
    "sequences =  tokenizer.texts_to_sequences(sentences)"
   ]
  },
  {
   "cell_type": "code",
   "execution_count": 27,
   "id": "4e29e043",
   "metadata": {
    "execution": {
     "iopub.execute_input": "2021-09-21T02:29:39.869579Z",
     "iopub.status.busy": "2021-09-21T02:29:39.865051Z",
     "iopub.status.idle": "2021-09-21T02:29:39.872271Z",
     "shell.execute_reply": "2021-09-21T02:29:39.872703Z",
     "shell.execute_reply.started": "2021-09-21T02:20:16.562352Z"
    },
    "papermill": {
     "duration": 0.082786,
     "end_time": "2021-09-21T02:29:39.872818",
     "exception": false,
     "start_time": "2021-09-21T02:29:39.790032",
     "status": "completed"
    },
    "tags": []
   },
   "outputs": [
    {
     "data": {
      "text/plain": [
       "33"
      ]
     },
     "execution_count": 27,
     "metadata": {},
     "output_type": "execute_result"
    }
   ],
   "source": [
    "MAX_LEN = np.max([len(x) for x in sequences])\n",
    "MAX_LEN"
   ]
  },
  {
   "cell_type": "code",
   "execution_count": 28,
   "id": "bbf1e3cc",
   "metadata": {
    "execution": {
     "iopub.execute_input": "2021-09-21T02:29:40.023341Z",
     "iopub.status.busy": "2021-09-21T02:29:40.022535Z",
     "iopub.status.idle": "2021-09-21T02:29:40.024585Z",
     "shell.execute_reply": "2021-09-21T02:29:40.024984Z",
     "shell.execute_reply.started": "2021-09-21T02:20:16.578491Z"
    },
    "papermill": {
     "duration": 0.080944,
     "end_time": "2021-09-21T02:29:40.025100",
     "exception": false,
     "start_time": "2021-09-21T02:29:39.944156",
     "status": "completed"
    },
    "tags": []
   },
   "outputs": [],
   "source": [
    "VOCAB_SIZE = len(count_words)\n",
    "def generator (photo , caption ): \n",
    "    X = []\n",
    "    y_in = []\n",
    "    y_out = []\n",
    "    for k , v in caption.items(): \n",
    "        for sentence in v : \n",
    "            for i in range(1,len(sentence)): \n",
    "#                 this for iterate every word in the sentence\n",
    "                X.append(photo[k])\n",
    "                in_seq = [sentence[:i]]\n",
    "                out_seq = [sentence[i]]    \n",
    "                in_seq = pad_sequences(in_seq,maxlen=MAX_LEN,padding =\"post\" ,truncating=\"post\")[0]\n",
    "                out_seq = to_categorical([out_seq],num_classes=VOCAB_SIZE+1)[0]\n",
    "                y_in.append(in_seq)\n",
    "                y_out.append(out_seq)\n",
    "        \n",
    "    return X, y_in,y_out"
   ]
  },
  {
   "cell_type": "code",
   "execution_count": 29,
   "id": "d4114f11",
   "metadata": {
    "execution": {
     "iopub.execute_input": "2021-09-21T02:29:40.175012Z",
     "iopub.status.busy": "2021-09-21T02:29:40.174214Z",
     "iopub.status.idle": "2021-09-21T02:29:45.160707Z",
     "shell.execute_reply": "2021-09-21T02:29:45.161390Z",
     "shell.execute_reply.started": "2021-09-21T02:20:16.588054Z"
    },
    "papermill": {
     "duration": 5.062414,
     "end_time": "2021-09-21T02:29:45.161602",
     "exception": false,
     "start_time": "2021-09-21T02:29:40.099188",
     "status": "completed"
    },
    "scrolled": true,
    "tags": []
   },
   "outputs": [],
   "source": [
    "X,y_in,y_out = generator(images_features,sequences_images)"
   ]
  },
  {
   "cell_type": "code",
   "execution_count": 30,
   "id": "78345116",
   "metadata": {
    "execution": {
     "iopub.execute_input": "2021-09-21T02:29:45.450295Z",
     "iopub.status.busy": "2021-09-21T02:29:45.449109Z",
     "iopub.status.idle": "2021-09-21T02:29:47.023102Z",
     "shell.execute_reply": "2021-09-21T02:29:47.021972Z",
     "shell.execute_reply.started": "2021-09-21T02:20:21.837098Z"
    },
    "papermill": {
     "duration": 1.732452,
     "end_time": "2021-09-21T02:29:47.023249",
     "exception": false,
     "start_time": "2021-09-21T02:29:45.290797",
     "status": "completed"
    },
    "tags": []
   },
   "outputs": [],
   "source": [
    "X,y_in,y_out = np.array(X),np.array(y_in),np.array(y_out)"
   ]
  },
  {
   "cell_type": "code",
   "execution_count": 31,
   "id": "594532f1",
   "metadata": {
    "execution": {
     "iopub.execute_input": "2021-09-21T02:29:47.175615Z",
     "iopub.status.busy": "2021-09-21T02:29:47.174921Z",
     "iopub.status.idle": "2021-09-21T02:29:47.177512Z",
     "shell.execute_reply": "2021-09-21T02:29:47.177902Z",
     "shell.execute_reply.started": "2021-09-21T02:20:23.051963Z"
    },
    "papermill": {
     "duration": 0.080395,
     "end_time": "2021-09-21T02:29:47.178027",
     "exception": false,
     "start_time": "2021-09-21T02:29:47.097632",
     "status": "completed"
    },
    "tags": []
   },
   "outputs": [
    {
     "data": {
      "text/plain": [
       "((107848, 2048), (107848, 33), (107848, 5200))"
      ]
     },
     "execution_count": 31,
     "metadata": {},
     "output_type": "execute_result"
    }
   ],
   "source": [
    "X.shape,y_in.shape,y_out.shape"
   ]
  },
  {
   "cell_type": "markdown",
   "id": "e3f7db0d",
   "metadata": {
    "execution": {
     "iopub.execute_input": "2021-09-20T19:34:28.666535Z",
     "iopub.status.busy": "2021-09-20T19:34:28.666212Z",
     "iopub.status.idle": "2021-09-20T19:34:29.237265Z",
     "shell.execute_reply": "2021-09-20T19:34:29.236104Z",
     "shell.execute_reply.started": "2021-09-20T19:34:28.666505Z"
    },
    "papermill": {
     "duration": 0.071486,
     "end_time": "2021-09-21T02:29:47.321284",
     "exception": false,
     "start_time": "2021-09-21T02:29:47.249798",
     "status": "completed"
    },
    "tags": []
   },
   "source": [
    "# Creating the model\n"
   ]
  },
  {
   "cell_type": "code",
   "execution_count": 32,
   "id": "b121d704",
   "metadata": {
    "execution": {
     "iopub.execute_input": "2021-09-21T02:29:47.471467Z",
     "iopub.status.busy": "2021-09-21T02:29:47.470804Z",
     "iopub.status.idle": "2021-09-21T02:29:47.472992Z",
     "shell.execute_reply": "2021-09-21T02:29:47.473454Z",
     "shell.execute_reply.started": "2021-09-21T02:20:23.060125Z"
    },
    "papermill": {
     "duration": 0.081036,
     "end_time": "2021-09-21T02:29:47.473583",
     "exception": false,
     "start_time": "2021-09-21T02:29:47.392547",
     "status": "completed"
    },
    "tags": []
   },
   "outputs": [],
   "source": [
    "from tensorflow.keras.utils import to_categorical , plot_model \n",
    "from tensorflow.keras.models import Model, Sequential\n",
    "from tensorflow.keras.layers import Input \n",
    "from tensorflow.keras.layers import Dense \n",
    "from tensorflow.keras.layers import LSTM \n",
    "from tensorflow.keras.layers import Embedding\n",
    "from tensorflow.keras.layers import Dropout\n",
    "from tensorflow.keras.layers import Flatten\n",
    "from tensorflow.keras.layers import Convolution2D\n",
    "from tensorflow.keras.layers import TimeDistributed\n",
    "from tensorflow.keras.layers import Bidirectional\n",
    "from tensorflow.keras.layers import Activation\n",
    "from tensorflow.keras.layers import RepeatVector\n",
    "from tensorflow.keras.layers import Concatenate\n",
    "from tensorflow.keras.callbacks import ModelCheckpoint\n",
    "\n"
   ]
  },
  {
   "cell_type": "code",
   "execution_count": 33,
   "id": "4e4c1fff",
   "metadata": {
    "execution": {
     "iopub.execute_input": "2021-09-21T02:29:47.620151Z",
     "iopub.status.busy": "2021-09-21T02:29:47.619487Z",
     "iopub.status.idle": "2021-09-21T02:29:47.622193Z",
     "shell.execute_reply": "2021-09-21T02:29:47.622605Z",
     "shell.execute_reply.started": "2021-09-21T02:20:23.070059Z"
    },
    "papermill": {
     "duration": 0.078256,
     "end_time": "2021-09-21T02:29:47.622728",
     "exception": false,
     "start_time": "2021-09-21T02:29:47.544472",
     "status": "completed"
    },
    "tags": []
   },
   "outputs": [
    {
     "data": {
      "text/plain": [
       "33"
      ]
     },
     "execution_count": 33,
     "metadata": {},
     "output_type": "execute_result"
    }
   ],
   "source": [
    "MAX_LEN"
   ]
  },
  {
   "cell_type": "code",
   "execution_count": 34,
   "id": "a965e4b2",
   "metadata": {
    "execution": {
     "iopub.execute_input": "2021-09-21T02:29:47.784331Z",
     "iopub.status.busy": "2021-09-21T02:29:47.783158Z",
     "iopub.status.idle": "2021-09-21T02:29:48.613051Z",
     "shell.execute_reply": "2021-09-21T02:29:48.612508Z",
     "shell.execute_reply.started": "2021-09-21T02:20:47.755680Z"
    },
    "papermill": {
     "duration": 0.91774,
     "end_time": "2021-09-21T02:29:48.613181",
     "exception": false,
     "start_time": "2021-09-21T02:29:47.695441",
     "status": "completed"
    },
    "tags": []
   },
   "outputs": [
    {
     "name": "stdout",
     "output_type": "stream",
     "text": [
      "Model: \"sequential\"\n",
      "_________________________________________________________________\n",
      "Layer (type)                 Output Shape              Param #   \n",
      "=================================================================\n",
      "dense (Dense)                (None, 128)               262272    \n",
      "_________________________________________________________________\n",
      "repeat_vector (RepeatVector) (None, 33, 128)           0         \n",
      "=================================================================\n",
      "Total params: 262,272\n",
      "Trainable params: 262,272\n",
      "Non-trainable params: 0\n",
      "_________________________________________________________________\n",
      "Model: \"sequential_1\"\n",
      "_________________________________________________________________\n",
      "Layer (type)                 Output Shape              Param #   \n",
      "=================================================================\n",
      "embedding (Embedding)        (None, 33, 128)           665600    \n",
      "_________________________________________________________________\n",
      "lstm (LSTM)                  (None, 33, 256)           394240    \n",
      "_________________________________________________________________\n",
      "time_distributed (TimeDistri (None, 33, 128)           32896     \n",
      "=================================================================\n",
      "Total params: 1,092,736\n",
      "Trainable params: 1,092,736\n",
      "Non-trainable params: 0\n",
      "_________________________________________________________________\n"
     ]
    }
   ],
   "source": [
    "embeding_size = 128\n",
    "max_len = MAX_LEN\n",
    "vocab_size = len(count_words) +1\n",
    "image_model = Sequential()\n",
    "image_model.add(Dense(embeding_size,input_shape = (2048,),activation=\"relu\"))\n",
    "image_model.add(RepeatVector(max_len))\n",
    "image_model.summary()\n",
    "\n",
    "language_model = Sequential()\n",
    "language_model.add(Embedding(input_dim=vocab_size,output_dim = embeding_size,input_length=max_len))\n",
    "language_model.add( LSTM(256,return_sequences = True))\n",
    "language_model.add(TimeDistributed(Dense(embeding_size)))\n",
    "language_model.summary()\n",
    "\n",
    "conca = Concatenate()([image_model.output, language_model.output])\n",
    "x = LSTM(128,return_sequences = True)(conca)\n",
    "x = LSTM(512,return_sequences = False)(x)\n",
    "x = Dense(vocab_size)(x)\n",
    "out = Activation(\"softmax\")(x)\n",
    "model = Model([image_model.input,language_model.input],outputs = out)\n",
    "model.compile(loss=\"categorical_crossentropy\",optimizer=\"adam\",metrics = [\"accuracy\"])"
   ]
  },
  {
   "cell_type": "code",
   "execution_count": 35,
   "id": "c20ce8ff",
   "metadata": {
    "execution": {
     "iopub.execute_input": "2021-09-21T02:29:48.763590Z",
     "iopub.status.busy": "2021-09-21T02:29:48.762974Z",
     "iopub.status.idle": "2021-09-21T02:29:48.773301Z",
     "shell.execute_reply": "2021-09-21T02:29:48.772588Z",
     "shell.execute_reply.started": "2021-09-21T02:20:49.789378Z"
    },
    "papermill": {
     "duration": 0.08775,
     "end_time": "2021-09-21T02:29:48.773447",
     "exception": false,
     "start_time": "2021-09-21T02:29:48.685697",
     "status": "completed"
    },
    "tags": []
   },
   "outputs": [
    {
     "name": "stdout",
     "output_type": "stream",
     "text": [
      "Model: \"model_1\"\n",
      "__________________________________________________________________________________________________\n",
      "Layer (type)                    Output Shape         Param #     Connected to                     \n",
      "==================================================================================================\n",
      "embedding_input (InputLayer)    [(None, 33)]         0                                            \n",
      "__________________________________________________________________________________________________\n",
      "dense_input (InputLayer)        [(None, 2048)]       0                                            \n",
      "__________________________________________________________________________________________________\n",
      "embedding (Embedding)           (None, 33, 128)      665600      embedding_input[0][0]            \n",
      "__________________________________________________________________________________________________\n",
      "dense (Dense)                   (None, 128)          262272      dense_input[0][0]                \n",
      "__________________________________________________________________________________________________\n",
      "lstm (LSTM)                     (None, 33, 256)      394240      embedding[0][0]                  \n",
      "__________________________________________________________________________________________________\n",
      "repeat_vector (RepeatVector)    (None, 33, 128)      0           dense[0][0]                      \n",
      "__________________________________________________________________________________________________\n",
      "time_distributed (TimeDistribut (None, 33, 128)      32896       lstm[0][0]                       \n",
      "__________________________________________________________________________________________________\n",
      "concatenate (Concatenate)       (None, 33, 256)      0           repeat_vector[0][0]              \n",
      "                                                                 time_distributed[0][0]           \n",
      "__________________________________________________________________________________________________\n",
      "lstm_1 (LSTM)                   (None, 33, 128)      197120      concatenate[0][0]                \n",
      "__________________________________________________________________________________________________\n",
      "lstm_2 (LSTM)                   (None, 512)          1312768     lstm_1[0][0]                     \n",
      "__________________________________________________________________________________________________\n",
      "dense_2 (Dense)                 (None, 5200)         2667600     lstm_2[0][0]                     \n",
      "__________________________________________________________________________________________________\n",
      "activation (Activation)         (None, 5200)         0           dense_2[0][0]                    \n",
      "==================================================================================================\n",
      "Total params: 5,532,496\n",
      "Trainable params: 5,532,496\n",
      "Non-trainable params: 0\n",
      "__________________________________________________________________________________________________\n"
     ]
    }
   ],
   "source": [
    "model.summary()"
   ]
  },
  {
   "cell_type": "code",
   "execution_count": 36,
   "id": "aae24a31",
   "metadata": {
    "execution": {
     "iopub.execute_input": "2021-09-21T02:29:48.949147Z",
     "iopub.status.busy": "2021-09-21T02:29:48.948167Z",
     "iopub.status.idle": "2021-09-21T02:35:34.561942Z",
     "shell.execute_reply": "2021-09-21T02:35:34.561162Z"
    },
    "papermill": {
     "duration": 345.703064,
     "end_time": "2021-09-21T02:35:34.562072",
     "exception": false,
     "start_time": "2021-09-21T02:29:48.859008",
     "status": "completed"
    },
    "tags": []
   },
   "outputs": [
    {
     "name": "stderr",
     "output_type": "stream",
     "text": [
      "2021-09-21 02:29:49.595825: W tensorflow/core/framework/cpu_allocator_impl.cc:80] Allocation of 2243238400 exceeds 10% of free system memory.\n"
     ]
    },
    {
     "name": "stdout",
     "output_type": "stream",
     "text": [
      "Epoch 1/20\n",
      "422/422 [==============================] - 21s 40ms/step - loss: 5.9513 - accuracy: 0.0841\n",
      "Epoch 2/20\n",
      "422/422 [==============================] - 17s 41ms/step - loss: 5.4969 - accuracy: 0.0897\n",
      "Epoch 3/20\n",
      "422/422 [==============================] - 17s 40ms/step - loss: 5.1075 - accuracy: 0.1513\n",
      "Epoch 4/20\n",
      "422/422 [==============================] - 17s 40ms/step - loss: 4.7228 - accuracy: 0.1907\n",
      "Epoch 5/20\n",
      "422/422 [==============================] - 17s 40ms/step - loss: 4.2580 - accuracy: 0.2371\n",
      "Epoch 6/20\n",
      "422/422 [==============================] - 17s 41ms/step - loss: 3.8901 - accuracy: 0.2696\n",
      "Epoch 7/20\n",
      "422/422 [==============================] - 17s 40ms/step - loss: 3.6415 - accuracy: 0.2879\n",
      "Epoch 8/20\n",
      "422/422 [==============================] - 17s 40ms/step - loss: 3.4613 - accuracy: 0.3033\n",
      "Epoch 9/20\n",
      "422/422 [==============================] - 17s 40ms/step - loss: 3.3076 - accuracy: 0.3175\n",
      "Epoch 10/20\n",
      "422/422 [==============================] - 17s 41ms/step - loss: 3.1438 - accuracy: 0.3325\n",
      "Epoch 11/20\n",
      "422/422 [==============================] - 17s 40ms/step - loss: 3.0304 - accuracy: 0.3415\n",
      "Epoch 12/20\n",
      "422/422 [==============================] - 17s 40ms/step - loss: 2.9015 - accuracy: 0.3553\n",
      "Epoch 13/20\n",
      "422/422 [==============================] - 17s 40ms/step - loss: 2.7845 - accuracy: 0.3656\n",
      "Epoch 14/20\n",
      "422/422 [==============================] - 17s 40ms/step - loss: 2.6671 - accuracy: 0.3803\n",
      "Epoch 15/20\n",
      "422/422 [==============================] - 17s 40ms/step - loss: 2.5761 - accuracy: 0.3897\n",
      "Epoch 16/20\n",
      "422/422 [==============================] - 17s 40ms/step - loss: 2.4795 - accuracy: 0.4036\n",
      "Epoch 17/20\n",
      "422/422 [==============================] - 17s 41ms/step - loss: 2.3977 - accuracy: 0.4141\n",
      "Epoch 18/20\n",
      "422/422 [==============================] - 17s 40ms/step - loss: 2.2878 - accuracy: 0.4329\n",
      "Epoch 19/20\n",
      "422/422 [==============================] - 17s 40ms/step - loss: 2.1954 - accuracy: 0.4463\n",
      "Epoch 20/20\n",
      "422/422 [==============================] - 17s 40ms/step - loss: 2.1000 - accuracy: 0.4621\n"
     ]
    },
    {
     "data": {
      "text/plain": [
       "<tensorflow.python.keras.callbacks.History at 0x7f3c6ab4e9d0>"
      ]
     },
     "execution_count": 36,
     "metadata": {},
     "output_type": "execute_result"
    }
   ],
   "source": [
    "model.fit([X, y_in], y_out, batch_size=256, epochs=20)\n"
   ]
  },
  {
   "cell_type": "markdown",
   "id": "f3e8e382",
   "metadata": {
    "papermill": {
     "duration": 1.184552,
     "end_time": "2021-09-21T02:35:36.929518",
     "exception": false,
     "start_time": "2021-09-21T02:35:35.744966",
     "status": "completed"
    },
    "tags": []
   },
   "source": [
    "# Saving the Model"
   ]
  },
  {
   "cell_type": "code",
   "execution_count": null,
   "id": "23a74f08",
   "metadata": {
    "papermill": {
     "duration": 1.210504,
     "end_time": "2021-09-21T02:35:39.558754",
     "exception": false,
     "start_time": "2021-09-21T02:35:38.348250",
     "status": "completed"
    },
    "tags": []
   },
   "outputs": [],
   "source": [
    "model.save('model.h5')\n",
    "model.save_weights('model.weights.h5')"
   ]
  },
  {
   "cell_type": "code",
   "execution_count": null,
   "id": "64c53d36",
   "metadata": {
    "papermill": {
     "duration": 1.190994,
     "end_time": "2021-09-21T02:35:41.926486",
     "exception": false,
     "start_time": "2021-09-21T02:35:40.735492",
     "status": "completed"
    },
    "tags": []
   },
   "outputs": [],
   "source": []
  },
  {
   "cell_type": "code",
   "execution_count": null,
   "id": "2b74016e",
   "metadata": {
    "papermill": {
     "duration": 1.179702,
     "end_time": "2021-09-21T02:35:44.288446",
     "exception": false,
     "start_time": "2021-09-21T02:35:43.108744",
     "status": "completed"
    },
    "tags": []
   },
   "outputs": [],
   "source": [
    "def getImage(x): \n",
    "    test_img_path = images[x]\n",
    "    test_img = cv2.imread(test_img_path)\n",
    "    test_img = cv2.cvtColor(test_img, cv2.COLOR_BGR2RGB)\n",
    "    test_img = cv2.resize(test_img, (224,224))\n",
    "    test_img = np.reshape(test_img, (1,224,224,3))\n",
    "    \n",
    "    return test_img"
   ]
  },
  {
   "cell_type": "code",
   "execution_count": null,
   "id": "ab3bea8d",
   "metadata": {
    "papermill": {
     "duration": 1.179082,
     "end_time": "2021-09-21T02:35:46.676602",
     "exception": false,
     "start_time": "2021-09-21T02:35:45.497520",
     "status": "completed"
    },
    "tags": []
   },
   "outputs": [],
   "source": []
  },
  {
   "cell_type": "code",
   "execution_count": 19,
   "id": "d77d901c",
   "metadata": {
    "papermill": {
     "duration": 1.964612,
     "end_time": "2021-09-21T02:35:49.822501",
     "exception": false,
     "start_time": "2021-09-21T02:35:47.857889",
     "status": "completed"
    },
    "scrolled": true,
    "tags": []
   },
   "outputs": [
    {
     "data": {
      "text/plain": [
       "array([], shape=(16145151, 0), dtype=int32)"
      ]
     },
     "execution_count": 19,
     "metadata": {},
     "output_type": "execute_result"
    }
   ],
   "source": []
  },
  {
   "cell_type": "code",
   "execution_count": null,
   "id": "12833e7f",
   "metadata": {
    "papermill": {
     "duration": 1.221766,
     "end_time": "2021-09-21T02:35:52.217874",
     "exception": false,
     "start_time": "2021-09-21T02:35:50.996108",
     "status": "completed"
    },
    "tags": []
   },
   "outputs": [],
   "source": [
    "for i in range(1):\n",
    "    \n",
    "    no = np.random.randint(1500,7000,(1,1))[0,0]\n",
    "    test_feature = modified_resnet.predict(getImage(no)).reshape(1,2048)\n",
    "    \n",
    "    test_img_path = images[no]\n",
    "    test_img = cv2.imread(test_img_path)\n",
    "    test_img = cv2.cvtColor(test_img, cv2.COLOR_BGR2RGB)\n",
    "\n",
    "\n",
    "    text_inp = ['<startofstr>']\n",
    "\n",
    "    count = 0\n",
    "    caption = ''\n",
    "    while count < 25:\n",
    "        count += 1\n",
    "        encoded = tokenizer.texts_to_sequences(text_inp)\n",
    "\n",
    "        encoded = pad_sequences(encoded, padding='post', truncating='post', maxlen=max_lenghth)\n",
    "        prediction = np.argmax(model.predict([test_feature, encoded]))\n",
    "        for k,v in tokenizer.word_index.items():\n",
    "            if v == prediction:\n",
    "                sampled_word = k\n",
    "                break\n",
    "                \n",
    "                \n",
    "        if sampled_word == 'endofstr':\n",
    "            break\n",
    "        caption = caption + ' ' + sampled_word\n",
    "        \n",
    "        text_inp[0] += ' ' + sampled_word\n",
    "    plt.figure()\n",
    "    plt.imshow(test_img)\n",
    "    plt.xlabel(caption)"
   ]
  },
  {
   "cell_type": "code",
   "execution_count": null,
   "id": "976d436c",
   "metadata": {
    "papermill": {
     "duration": 1.176306,
     "end_time": "2021-09-21T02:35:54.584148",
     "exception": false,
     "start_time": "2021-09-21T02:35:53.407842",
     "status": "completed"
    },
    "tags": []
   },
   "outputs": [],
   "source": []
  },
  {
   "cell_type": "code",
   "execution_count": null,
   "id": "93557076",
   "metadata": {
    "papermill": {
     "duration": 1.178389,
     "end_time": "2021-09-21T02:35:56.937098",
     "exception": false,
     "start_time": "2021-09-21T02:35:55.758709",
     "status": "completed"
    },
    "tags": []
   },
   "outputs": [],
   "source": []
  },
  {
   "cell_type": "code",
   "execution_count": null,
   "id": "b648a229",
   "metadata": {
    "papermill": {
     "duration": 1.185561,
     "end_time": "2021-09-21T02:35:59.330210",
     "exception": false,
     "start_time": "2021-09-21T02:35:58.144649",
     "status": "completed"
    },
    "tags": []
   },
   "outputs": [],
   "source": []
  },
  {
   "cell_type": "code",
   "execution_count": null,
   "id": "76cf047b",
   "metadata": {
    "papermill": {
     "duration": 1.187836,
     "end_time": "2021-09-21T02:36:01.936539",
     "exception": false,
     "start_time": "2021-09-21T02:36:00.748703",
     "status": "completed"
    },
    "tags": []
   },
   "outputs": [],
   "source": [
    "for i in range(5):\n",
    "    \n",
    "    no = np.random.randint(1500,7000,(1,1))[0,0]\n",
    "    test_feature = modified_resnet.predict(getImage(no)).reshape(1,2048)\n",
    "    \n",
    "    test_img_path = images[no]\n",
    "    test_img = cv2.imread(test_img_path)\n",
    "    test_img = cv2.cvtColor(test_img, cv2.COLOR_BGR2RGB)\n",
    "\n",
    "\n",
    "    text_inp = ['<startofstr>']\n",
    "\n",
    "    count = 0\n",
    "    caption = ''\n",
    "    while count < 25:\n",
    "        count += 1\n",
    "        encoded = tokenizer.texts_to_sequences(text_inp)\n",
    "\n",
    "        encoded = pad_sequences(encoded, padding='post', truncating='post', maxlen=max_lenghth)\n",
    "        prediction = np.argmax(model.predict([test_feature, encoded]))\n",
    "        for k,v in tokenizer.word_index.items():\n",
    "            if v == prediction:\n",
    "                sampled_word = k\n",
    "                break\n",
    "                \n",
    "                \n",
    "        if sampled_word == 'endofstr':\n",
    "            break\n",
    "        caption = caption + ' ' + sampled_word\n",
    "        \n",
    "        text_inp[0] += ' ' + sampled_word\n",
    "    plt.figure()\n",
    "    plt.imshow(test_img)\n",
    "    plt.xlabel(caption)"
   ]
  },
  {
   "cell_type": "code",
   "execution_count": null,
   "id": "e8c81b05",
   "metadata": {
    "papermill": {
     "duration": 1.209888,
     "end_time": "2021-09-21T02:36:04.324562",
     "exception": false,
     "start_time": "2021-09-21T02:36:03.114674",
     "status": "completed"
    },
    "tags": []
   },
   "outputs": [],
   "source": []
  },
  {
   "cell_type": "code",
   "execution_count": null,
   "id": "f13f3970",
   "metadata": {
    "papermill": {
     "duration": 1.183382,
     "end_time": "2021-09-21T02:36:06.687365",
     "exception": false,
     "start_time": "2021-09-21T02:36:05.503983",
     "status": "completed"
    },
    "tags": []
   },
   "outputs": [],
   "source": []
  },
  {
   "cell_type": "code",
   "execution_count": null,
   "id": "c3c3d632",
   "metadata": {
    "papermill": {
     "duration": 1.178775,
     "end_time": "2021-09-21T02:36:09.042554",
     "exception": false,
     "start_time": "2021-09-21T02:36:07.863779",
     "status": "completed"
    },
    "tags": []
   },
   "outputs": [],
   "source": []
  },
  {
   "cell_type": "code",
   "execution_count": null,
   "id": "8b1cd426",
   "metadata": {
    "papermill": {
     "duration": 1.436665,
     "end_time": "2021-09-21T02:36:11.690542",
     "exception": false,
     "start_time": "2021-09-21T02:36:10.253877",
     "status": "completed"
    },
    "tags": []
   },
   "outputs": [],
   "source": []
  },
  {
   "cell_type": "code",
   "execution_count": null,
   "id": "a709c615",
   "metadata": {
    "papermill": {
     "duration": 1.178576,
     "end_time": "2021-09-21T02:36:14.048058",
     "exception": false,
     "start_time": "2021-09-21T02:36:12.869482",
     "status": "completed"
    },
    "tags": []
   },
   "outputs": [],
   "source": []
  },
  {
   "cell_type": "code",
   "execution_count": null,
   "id": "ec098bca",
   "metadata": {
    "papermill": {
     "duration": 1.215682,
     "end_time": "2021-09-21T02:36:16.440368",
     "exception": false,
     "start_time": "2021-09-21T02:36:15.224686",
     "status": "completed"
    },
    "tags": []
   },
   "outputs": [],
   "source": []
  },
  {
   "cell_type": "code",
   "execution_count": null,
   "id": "d71f342a",
   "metadata": {
    "papermill": {
     "duration": 1.186774,
     "end_time": "2021-09-21T02:36:18.801025",
     "exception": false,
     "start_time": "2021-09-21T02:36:17.614251",
     "status": "completed"
    },
    "tags": []
   },
   "outputs": [],
   "source": []
  },
  {
   "cell_type": "code",
   "execution_count": null,
   "id": "96fcf625",
   "metadata": {
    "papermill": {
     "duration": 1.273669,
     "end_time": "2021-09-21T02:36:21.252026",
     "exception": false,
     "start_time": "2021-09-21T02:36:19.978357",
     "status": "completed"
    },
    "tags": []
   },
   "outputs": [],
   "source": []
  },
  {
   "cell_type": "code",
   "execution_count": null,
   "id": "9f022ba6",
   "metadata": {
    "papermill": {
     "duration": 1.178523,
     "end_time": "2021-09-21T02:36:24.345307",
     "exception": false,
     "start_time": "2021-09-21T02:36:23.166784",
     "status": "completed"
    },
    "tags": []
   },
   "outputs": [],
   "source": []
  },
  {
   "cell_type": "code",
   "execution_count": null,
   "id": "786fa457",
   "metadata": {
    "papermill": {
     "duration": 1.173901,
     "end_time": "2021-09-21T02:36:26.701428",
     "exception": false,
     "start_time": "2021-09-21T02:36:25.527527",
     "status": "completed"
    },
    "tags": []
   },
   "outputs": [],
   "source": []
  },
  {
   "cell_type": "code",
   "execution_count": null,
   "id": "3495e6bd",
   "metadata": {
    "papermill": {
     "duration": 1.205305,
     "end_time": "2021-09-21T02:36:29.082809",
     "exception": false,
     "start_time": "2021-09-21T02:36:27.877504",
     "status": "completed"
    },
    "tags": []
   },
   "outputs": [],
   "source": []
  },
  {
   "cell_type": "code",
   "execution_count": null,
   "id": "8e6cc4d4",
   "metadata": {
    "papermill": {
     "duration": 1.185026,
     "end_time": "2021-09-21T02:36:31.450354",
     "exception": false,
     "start_time": "2021-09-21T02:36:30.265328",
     "status": "completed"
    },
    "tags": []
   },
   "outputs": [],
   "source": []
  },
  {
   "cell_type": "code",
   "execution_count": null,
   "id": "31724041",
   "metadata": {
    "papermill": {
     "duration": 1.280893,
     "end_time": "2021-09-21T02:36:34.065891",
     "exception": false,
     "start_time": "2021-09-21T02:36:32.784998",
     "status": "completed"
    },
    "tags": []
   },
   "outputs": [],
   "source": []
  },
  {
   "cell_type": "code",
   "execution_count": null,
   "id": "52815cb1",
   "metadata": {
    "papermill": {
     "duration": 1.180698,
     "end_time": "2021-09-21T02:36:36.457521",
     "exception": false,
     "start_time": "2021-09-21T02:36:35.276823",
     "status": "completed"
    },
    "tags": []
   },
   "outputs": [],
   "source": []
  },
  {
   "cell_type": "code",
   "execution_count": null,
   "id": "357a0267",
   "metadata": {
    "papermill": {
     "duration": 1.172164,
     "end_time": "2021-09-21T02:36:38.801266",
     "exception": false,
     "start_time": "2021-09-21T02:36:37.629102",
     "status": "completed"
    },
    "tags": []
   },
   "outputs": [],
   "source": []
  },
  {
   "cell_type": "code",
   "execution_count": null,
   "id": "b0882696",
   "metadata": {
    "papermill": {
     "duration": 1.211832,
     "end_time": "2021-09-21T02:36:41.188552",
     "exception": false,
     "start_time": "2021-09-21T02:36:39.976720",
     "status": "completed"
    },
    "tags": []
   },
   "outputs": [],
   "source": []
  },
  {
   "cell_type": "code",
   "execution_count": null,
   "id": "2b89162e",
   "metadata": {
    "papermill": {
     "duration": 1.279504,
     "end_time": "2021-09-21T02:36:43.655589",
     "exception": false,
     "start_time": "2021-09-21T02:36:42.376085",
     "status": "completed"
    },
    "tags": []
   },
   "outputs": [],
   "source": []
  },
  {
   "cell_type": "code",
   "execution_count": null,
   "id": "09523cd0",
   "metadata": {
    "papermill": {
     "duration": 1.185708,
     "end_time": "2021-09-21T02:36:46.139410",
     "exception": false,
     "start_time": "2021-09-21T02:36:44.953702",
     "status": "completed"
    },
    "tags": []
   },
   "outputs": [],
   "source": []
  },
  {
   "cell_type": "code",
   "execution_count": null,
   "id": "31184973",
   "metadata": {
    "papermill": {
     "duration": 1.189909,
     "end_time": "2021-09-21T02:36:48.549095",
     "exception": false,
     "start_time": "2021-09-21T02:36:47.359186",
     "status": "completed"
    },
    "tags": []
   },
   "outputs": [],
   "source": []
  },
  {
   "cell_type": "code",
   "execution_count": null,
   "id": "5c186c47",
   "metadata": {
    "papermill": {
     "duration": 1.187361,
     "end_time": "2021-09-21T02:36:50.923818",
     "exception": false,
     "start_time": "2021-09-21T02:36:49.736457",
     "status": "completed"
    },
    "tags": []
   },
   "outputs": [],
   "source": []
  },
  {
   "cell_type": "code",
   "execution_count": null,
   "id": "865f7ba7",
   "metadata": {
    "papermill": {
     "duration": 1.227078,
     "end_time": "2021-09-21T02:36:53.352823",
     "exception": false,
     "start_time": "2021-09-21T02:36:52.125745",
     "status": "completed"
    },
    "tags": []
   },
   "outputs": [],
   "source": []
  },
  {
   "cell_type": "code",
   "execution_count": null,
   "id": "69e97e49",
   "metadata": {
    "papermill": {
     "duration": 1.201694,
     "end_time": "2021-09-21T02:36:56.503409",
     "exception": false,
     "start_time": "2021-09-21T02:36:55.301715",
     "status": "completed"
    },
    "tags": []
   },
   "outputs": [],
   "source": []
  },
  {
   "cell_type": "code",
   "execution_count": null,
   "id": "5ef62db9",
   "metadata": {
    "papermill": {
     "duration": 1.174362,
     "end_time": "2021-09-21T02:36:58.852734",
     "exception": false,
     "start_time": "2021-09-21T02:36:57.678372",
     "status": "completed"
    },
    "tags": []
   },
   "outputs": [],
   "source": []
  },
  {
   "cell_type": "code",
   "execution_count": null,
   "id": "6a098c3e",
   "metadata": {
    "papermill": {
     "duration": 1.175277,
     "end_time": "2021-09-21T02:37:01.237363",
     "exception": false,
     "start_time": "2021-09-21T02:37:00.062086",
     "status": "completed"
    },
    "tags": []
   },
   "outputs": [],
   "source": []
  },
  {
   "cell_type": "code",
   "execution_count": null,
   "id": "eb24e997",
   "metadata": {
    "papermill": {
     "duration": 1.170541,
     "end_time": "2021-09-21T02:37:03.587400",
     "exception": false,
     "start_time": "2021-09-21T02:37:02.416859",
     "status": "completed"
    },
    "tags": []
   },
   "outputs": [],
   "source": []
  },
  {
   "cell_type": "code",
   "execution_count": null,
   "id": "9b929eef",
   "metadata": {
    "papermill": {
     "duration": 1.431091,
     "end_time": "2021-09-21T02:37:06.198945",
     "exception": false,
     "start_time": "2021-09-21T02:37:04.767854",
     "status": "completed"
    },
    "tags": []
   },
   "outputs": [],
   "source": []
  },
  {
   "cell_type": "code",
   "execution_count": null,
   "id": "35228d14",
   "metadata": {
    "papermill": {
     "duration": 1.173842,
     "end_time": "2021-09-21T02:37:08.549839",
     "exception": false,
     "start_time": "2021-09-21T02:37:07.375997",
     "status": "completed"
    },
    "tags": []
   },
   "outputs": [],
   "source": []
  },
  {
   "cell_type": "code",
   "execution_count": null,
   "id": "6a636a96",
   "metadata": {
    "papermill": {
     "duration": 1.180695,
     "end_time": "2021-09-21T02:37:10.904901",
     "exception": false,
     "start_time": "2021-09-21T02:37:09.724206",
     "status": "completed"
    },
    "tags": []
   },
   "outputs": [],
   "source": []
  },
  {
   "cell_type": "code",
   "execution_count": null,
   "id": "dc2c659c",
   "metadata": {
    "papermill": {
     "duration": 1.177655,
     "end_time": "2021-09-21T02:37:13.319109",
     "exception": false,
     "start_time": "2021-09-21T02:37:12.141454",
     "status": "completed"
    },
    "tags": []
   },
   "outputs": [],
   "source": []
  },
  {
   "cell_type": "code",
   "execution_count": null,
   "id": "19714a8a",
   "metadata": {
    "papermill": {
     "duration": 1.178044,
     "end_time": "2021-09-21T02:37:15.671854",
     "exception": false,
     "start_time": "2021-09-21T02:37:14.493810",
     "status": "completed"
    },
    "tags": []
   },
   "outputs": [],
   "source": []
  },
  {
   "cell_type": "code",
   "execution_count": null,
   "id": "f0042d14",
   "metadata": {
    "papermill": {
     "duration": 1.234256,
     "end_time": "2021-09-21T02:37:18.324413",
     "exception": false,
     "start_time": "2021-09-21T02:37:17.090157",
     "status": "completed"
    },
    "tags": []
   },
   "outputs": [],
   "source": []
  },
  {
   "cell_type": "code",
   "execution_count": null,
   "id": "bcc84325",
   "metadata": {
    "papermill": {
     "duration": 1.175276,
     "end_time": "2021-09-21T02:37:20.676043",
     "exception": false,
     "start_time": "2021-09-21T02:37:19.500767",
     "status": "completed"
    },
    "tags": []
   },
   "outputs": [],
   "source": []
  },
  {
   "cell_type": "code",
   "execution_count": null,
   "id": "2c23468d",
   "metadata": {
    "papermill": {
     "duration": 1.178702,
     "end_time": "2021-09-21T02:37:23.075192",
     "exception": false,
     "start_time": "2021-09-21T02:37:21.896490",
     "status": "completed"
    },
    "tags": []
   },
   "outputs": [],
   "source": []
  },
  {
   "cell_type": "code",
   "execution_count": null,
   "id": "cfa0fa88",
   "metadata": {
    "papermill": {
     "duration": 1.182033,
     "end_time": "2021-09-21T02:37:25.469486",
     "exception": false,
     "start_time": "2021-09-21T02:37:24.287453",
     "status": "completed"
    },
    "tags": []
   },
   "outputs": [],
   "source": []
  },
  {
   "cell_type": "code",
   "execution_count": null,
   "id": "b3dbd486",
   "metadata": {
    "papermill": {
     "duration": 1.988425,
     "end_time": "2021-09-21T02:37:28.631404",
     "exception": false,
     "start_time": "2021-09-21T02:37:26.642979",
     "status": "completed"
    },
    "tags": []
   },
   "outputs": [],
   "source": []
  },
  {
   "cell_type": "code",
   "execution_count": null,
   "id": "ca971dca",
   "metadata": {
    "papermill": {
     "duration": 1.211718,
     "end_time": "2021-09-21T02:37:31.055560",
     "exception": false,
     "start_time": "2021-09-21T02:37:29.843842",
     "status": "completed"
    },
    "tags": []
   },
   "outputs": [],
   "source": []
  },
  {
   "cell_type": "code",
   "execution_count": null,
   "id": "8d4776d3",
   "metadata": {
    "papermill": {
     "duration": 1.172219,
     "end_time": "2021-09-21T02:37:33.410598",
     "exception": false,
     "start_time": "2021-09-21T02:37:32.238379",
     "status": "completed"
    },
    "tags": []
   },
   "outputs": [],
   "source": []
  },
  {
   "cell_type": "code",
   "execution_count": null,
   "id": "09bb47af",
   "metadata": {
    "papermill": {
     "duration": 1.173551,
     "end_time": "2021-09-21T02:37:35.760622",
     "exception": false,
     "start_time": "2021-09-21T02:37:34.587071",
     "status": "completed"
    },
    "tags": []
   },
   "outputs": [],
   "source": []
  },
  {
   "cell_type": "code",
   "execution_count": null,
   "id": "622c1999",
   "metadata": {
    "papermill": {
     "duration": 1.177832,
     "end_time": "2021-09-21T02:37:38.144779",
     "exception": false,
     "start_time": "2021-09-21T02:37:36.966947",
     "status": "completed"
    },
    "tags": []
   },
   "outputs": [],
   "source": []
  }
 ],
 "metadata": {
  "kernelspec": {
   "display_name": "Python 3 (ipykernel)",
   "language": "python",
   "name": "python3"
  },
  "language_info": {
   "codemirror_mode": {
    "name": "ipython",
    "version": 3
   },
   "file_extension": ".py",
   "mimetype": "text/x-python",
   "name": "python",
   "nbconvert_exporter": "python",
   "pygments_lexer": "ipython3",
   "version": "3.8.8"
  },
  "papermill": {
   "default_parameters": {},
   "duration": 620.299737,
   "end_time": "2021-09-21T02:37:42.494150",
   "environment_variables": {},
   "exception": null,
   "input_path": "__notebook__.ipynb",
   "output_path": "__notebook__.ipynb",
   "parameters": {},
   "start_time": "2021-09-21T02:27:22.194413",
   "version": "2.3.3"
  }
 },
 "nbformat": 4,
 "nbformat_minor": 5
}
